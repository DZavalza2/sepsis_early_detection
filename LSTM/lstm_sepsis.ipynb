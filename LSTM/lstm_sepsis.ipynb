{
 "cells": [
  {
   "cell_type": "code",
   "execution_count": 1,
   "id": "b81d4d23",
   "metadata": {},
   "outputs": [],
   "source": [
    "import pandas as pd\n",
    "import numpy as np\n",
    "import seaborn as sns\n",
    "import matplotlib.pyplot as plt"
   ]
  },
  {
   "cell_type": "code",
   "execution_count": 2,
   "id": "79c162cb",
   "metadata": {},
   "outputs": [],
   "source": [
    "import warnings\n",
    "warnings.filterwarnings('ignore')"
   ]
  },
  {
   "cell_type": "code",
   "execution_count": 2,
   "id": "85549e3a",
   "metadata": {},
   "outputs": [],
   "source": [
    "sequence_length = 10\n",
    "num_hours_ahead = 5"
   ]
  },
  {
   "cell_type": "code",
   "execution_count": 3,
   "id": "270da1ef",
   "metadata": {},
   "outputs": [],
   "source": [
    "# Load the arrays from the .npy files\n",
    "X_train = np.load('data/X_train.npy')\n",
    "y_train = np.load('data/y_train.npy')\n",
    "X_val = np.load('data/X_val.npy')\n",
    "y_val = np.load('data/y_val.npy')\n",
    "X_test = np.load('data/X_test.npy')\n",
    "y_test = np.load('data/y_test.npy')"
   ]
  },
  {
   "cell_type": "code",
   "execution_count": 4,
   "id": "85a98a38",
   "metadata": {
    "scrolled": true
   },
   "outputs": [
    {
     "name": "stderr",
     "output_type": "stream",
     "text": [
      "2024-02-04 23:20:34.004002: I tensorflow/core/platform/cpu_feature_guard.cc:182] This TensorFlow binary is optimized to use available CPU instructions in performance-critical operations.\n",
      "To enable the following instructions: AVX2 FMA, in other operations, rebuild TensorFlow with the appropriate compiler flags.\n"
     ]
    },
    {
     "name": "stdout",
     "output_type": "stream",
     "text": [
      "Num GPUs Available:  1\n"
     ]
    }
   ],
   "source": [
    "import tensorflow as tf\n",
    "\n",
    "print(\"Num GPUs Available: \", len(tf.config.experimental.list_physical_devices('GPU')))\n"
   ]
  },
  {
   "cell_type": "code",
   "execution_count": 5,
   "id": "9a72b477",
   "metadata": {},
   "outputs": [],
   "source": [
    "from tensorflow.keras.models import Sequential\n",
    "from tensorflow.keras.layers import LSTM, Dense, Dropout\n",
    "from tensorflow.keras.metrics import Recall"
   ]
  },
  {
   "cell_type": "code",
   "execution_count": 6,
   "id": "da03342c",
   "metadata": {},
   "outputs": [],
   "source": [
    "# Indices for each class\n",
    "indices_class_0 = np.where(y_train == 0)[0]\n",
    "indices_class_1 = np.where(y_train == 1)[0]\n",
    "\n",
    "# Data for each class\n",
    "X_class_0 = X_train[indices_class_0]\n",
    "X_class_1 = X_train[indices_class_1]\n",
    "y_class_0 = y_train[indices_class_0]\n",
    "y_class_1 = y_train[indices_class_1]"
   ]
  },
  {
   "cell_type": "code",
   "execution_count": 34,
   "id": "43861f2d",
   "metadata": {
    "scrolled": true
   },
   "outputs": [
    {
     "name": "stdout",
     "output_type": "stream",
     "text": [
      "Model: \"sequential_1\"\n",
      "_________________________________________________________________\n",
      " Layer (type)                Output Shape              Param #   \n",
      "=================================================================\n",
      " lstm_2 (LSTM)               (None, 10, 128)           68096     \n",
      "                                                                 \n",
      " dropout_2 (Dropout)         (None, 10, 128)           0         \n",
      "                                                                 \n",
      " lstm_3 (LSTM)               (None, 128)               131584    \n",
      "                                                                 \n",
      " dropout_3 (Dropout)         (None, 128)               0         \n",
      "                                                                 \n",
      " dense_1 (Dense)             (None, 1)                 129       \n",
      "                                                                 \n",
      "=================================================================\n",
      "Total params: 199809 (780.50 KB)\n",
      "Trainable params: 199809 (780.50 KB)\n",
      "Non-trainable params: 0 (0.00 Byte)\n",
      "_________________________________________________________________\n"
     ]
    }
   ],
   "source": [
    "\n",
    "model = Sequential([\n",
    "    LSTM(128, input_shape=(X_train.shape[1], X_train.shape[2]), return_sequences=True),\n",
    "    Dropout(0.2),\n",
    "    LSTM(128),\n",
    "    Dropout(0.2),\n",
    "    Dense(1, activation='sigmoid')\n",
    "])\n",
    "\n",
    "model.compile(optimizer='adam', loss='binary_crossentropy', \n",
    "              metrics=['accuracy', Recall()])\n",
    "\n",
    "model.summary()"
   ]
  },
  {
   "cell_type": "code",
   "execution_count": 35,
   "id": "5071f0c0",
   "metadata": {},
   "outputs": [],
   "source": [
    "num_epochs = 20\n",
    "batch_size = 64"
   ]
  },
  {
   "cell_type": "code",
   "execution_count": 36,
   "id": "805db58c",
   "metadata": {
    "scrolled": false
   },
   "outputs": [
    {
     "name": "stdout",
     "output_type": "stream",
     "text": [
      "9471/9471 [==============================] - 73s 7ms/step - loss: 0.6313 - accuracy: 0.6413 - recall_1: 0.5298 - val_loss: 0.5653 - val_accuracy: 0.7462 - val_recall_1: 0.6435\n",
      "9471/9471 [==============================] - 68s 7ms/step - loss: 0.6158 - accuracy: 0.6579 - recall_1: 0.5348 - val_loss: 0.5603 - val_accuracy: 0.7517 - val_recall_1: 0.6468\n",
      "9471/9471 [==============================] - 67s 7ms/step - loss: 0.6120 - accuracy: 0.6622 - recall_1: 0.5363 - val_loss: 0.5705 - val_accuracy: 0.7510 - val_recall_1: 0.6622\n",
      "9471/9471 [==============================] - 67s 7ms/step - loss: 0.6094 - accuracy: 0.6649 - recall_1: 0.5361 - val_loss: 0.5776 - val_accuracy: 0.7402 - val_recall_1: 0.6941\n",
      "9471/9471 [==============================] - 66s 7ms/step - loss: 0.6074 - accuracy: 0.6676 - recall_1: 0.5404 - val_loss: 0.5690 - val_accuracy: 0.7497 - val_recall_1: 0.6630\n",
      "9471/9471 [==============================] - 66s 7ms/step - loss: 0.6050 - accuracy: 0.6694 - recall_1: 0.5415 - val_loss: 0.5680 - val_accuracy: 0.7485 - val_recall_1: 0.6702\n",
      "9471/9471 [==============================] - 66s 7ms/step - loss: 0.6019 - accuracy: 0.6729 - recall_1: 0.5462 - val_loss: 0.5780 - val_accuracy: 0.7458 - val_recall_1: 0.6738\n",
      "9471/9471 [==============================] - 67s 7ms/step - loss: 0.5979 - accuracy: 0.6766 - recall_1: 0.5515 - val_loss: 0.5695 - val_accuracy: 0.7496 - val_recall_1: 0.6518\n",
      "9471/9471 [==============================] - 67s 7ms/step - loss: 0.5931 - accuracy: 0.6803 - recall_1: 0.5581 - val_loss: 0.5796 - val_accuracy: 0.7425 - val_recall_1: 0.6651\n",
      "9471/9471 [==============================] - 67s 7ms/step - loss: 0.5871 - accuracy: 0.6856 - recall_1: 0.5659 - val_loss: 0.5797 - val_accuracy: 0.7399 - val_recall_1: 0.6590\n",
      "9471/9471 [==============================] - 67s 7ms/step - loss: 0.5816 - accuracy: 0.6900 - recall_1: 0.5738 - val_loss: 0.5967 - val_accuracy: 0.7330 - val_recall_1: 0.6733\n",
      "9471/9471 [==============================] - 66s 7ms/step - loss: 0.5756 - accuracy: 0.6946 - recall_1: 0.5800 - val_loss: 0.5973 - val_accuracy: 0.7344 - val_recall_1: 0.6500\n",
      "9471/9471 [==============================] - 66s 7ms/step - loss: 0.5699 - accuracy: 0.6986 - recall_1: 0.5875 - val_loss: 0.6101 - val_accuracy: 0.7248 - val_recall_1: 0.6688\n",
      "9471/9471 [==============================] - 66s 7ms/step - loss: 0.5644 - accuracy: 0.7023 - recall_1: 0.5937 - val_loss: 0.6075 - val_accuracy: 0.7282 - val_recall_1: 0.6590\n",
      "9471/9471 [==============================] - 67s 7ms/step - loss: 0.5588 - accuracy: 0.7062 - recall_1: 0.6001 - val_loss: 0.6156 - val_accuracy: 0.7292 - val_recall_1: 0.6532\n",
      "9471/9471 [==============================] - 66s 7ms/step - loss: 0.5538 - accuracy: 0.7105 - recall_1: 0.6065 - val_loss: 0.6118 - val_accuracy: 0.7283 - val_recall_1: 0.6468\n",
      "9471/9471 [==============================] - 67s 7ms/step - loss: 0.5497 - accuracy: 0.7127 - recall_1: 0.6123 - val_loss: 0.6092 - val_accuracy: 0.7309 - val_recall_1: 0.6457\n",
      "9471/9471 [==============================] - 67s 7ms/step - loss: 0.5460 - accuracy: 0.7153 - recall_1: 0.6158 - val_loss: 0.6386 - val_accuracy: 0.7148 - val_recall_1: 0.6683\n",
      "9471/9471 [==============================] - 67s 7ms/step - loss: 0.5409 - accuracy: 0.7187 - recall_1: 0.6206 - val_loss: 0.6375 - val_accuracy: 0.7176 - val_recall_1: 0.6583\n",
      "9471/9471 [==============================] - 66s 7ms/step - loss: 0.5377 - accuracy: 0.7207 - recall_1: 0.6250 - val_loss: 0.6430 - val_accuracy: 0.7143 - val_recall_1: 0.6626\n"
     ]
    }
   ],
   "source": [
    "for epoch in range(num_epochs):\n",
    "    # Randomly sample indices from the majority class to match the minority class size\n",
    "    sampled_majority_indices = np.random.choice(indices_class_0, size=len(indices_class_1), replace=False)\n",
    "    \n",
    "    # Combine sampled majority indices with all minority class indices\n",
    "    combined_indices = np.concatenate([sampled_majority_indices, indices_class_1])\n",
    "    \n",
    "    # Shuffle the combined indices\n",
    "    np.random.shuffle(combined_indices)\n",
    "\n",
    "    # Use the combined indices to create the training dataset for this epoch\n",
    "    X_train_epoch = X_train[combined_indices]\n",
    "    y_train_epoch = y_train[combined_indices]\n",
    "\n",
    "    # Train the model on this epoch's data\n",
    "    model.fit(X_train_epoch, y_train_epoch, epochs=1, batch_size=batch_size, validation_data=(X_val, y_val))\n"
   ]
  },
  {
   "cell_type": "markdown",
   "id": "2aa28874",
   "metadata": {},
   "source": [
    "# Evaluating the model"
   ]
  },
  {
   "cell_type": "code",
   "execution_count": 38,
   "id": "5febad62",
   "metadata": {},
   "outputs": [
    {
     "name": "stdout",
     "output_type": "stream",
     "text": [
      "6607/6607 [==============================] - 21s 3ms/step - loss: 0.6423 - accuracy: 0.7137 - recall_1: 0.6667\n",
      "Test Loss: 0.6422663331031799\n",
      "Test Accuracy: 0.7136802673339844\n",
      "Test Recall: 0.6666896939277649\n"
     ]
    }
   ],
   "source": [
    "test_loss, test_accuracy, test_recall = model.evaluate(X_test, y_test)\n",
    "print(f\"Test Loss: {test_loss}\")\n",
    "print(f\"Test Accuracy: {test_accuracy}\")\n",
    "print(f\"Test Recall: {test_recall}\")"
   ]
  },
  {
   "cell_type": "code",
   "execution_count": 39,
   "id": "185e622a",
   "metadata": {},
   "outputs": [
    {
     "name": "stdout",
     "output_type": "stream",
     "text": [
      "6607/6607 [==============================] - 18s 2ms/step\n"
     ]
    }
   ],
   "source": [
    "predictions = model.predict(X_test)\n",
    "predicted_classes = (predictions >= 0.5).astype(int).flatten()"
   ]
  },
  {
   "cell_type": "code",
   "execution_count": 40,
   "id": "bf3f996d",
   "metadata": {},
   "outputs": [
    {
     "name": "stdout",
     "output_type": "stream",
     "text": [
      "tf.Tensor(\n",
      "[[102665  36426]\n",
      " [ 24106  48217]], shape=(2, 2), dtype=int32)\n"
     ]
    }
   ],
   "source": [
    "from tensorflow.math import confusion_matrix\n",
    "\n",
    "conf_matrix = confusion_matrix(y_test, predicted_classes)\n",
    "print(conf_matrix)"
   ]
  },
  {
   "cell_type": "code",
   "execution_count": 41,
   "id": "2e3d949b",
   "metadata": {},
   "outputs": [
    {
     "data": {
      "text/plain": [
       "array([['True Negative', 'False Positive'],\n",
       "       ['False Negative', 'True Positive']], dtype='<U14')"
      ]
     },
     "execution_count": 41,
     "metadata": {},
     "output_type": "execute_result"
    }
   ],
   "source": [
    "np.array([['True Negative', 'False Positive'],\n",
    " ['False Negative', 'True Positive']])"
   ]
  },
  {
   "cell_type": "code",
   "execution_count": 9,
   "id": "b020eb7c",
   "metadata": {},
   "outputs": [
    {
     "data": {
      "image/png": "[encoded data removed]",
      "text/plain": [
       "<Figure size 576x432 with 1 Axes>"
      ]
     },
     "metadata": {
      "needs_background": "light"
     },
     "output_type": "display_data"
    }
   ],
   "source": [
    "# Since your confusion matrix is already a TensorFlow tensor, convert it to a numpy array for visualization.\n",
    "conf_matrix_np = np.array([[102665 , 36426]\n",
    " , [ 24106,  48217]])\n",
    "\n",
    "plt.figure(figsize=(8, 6))\n",
    "sns.heatmap(conf_matrix_np, annot=True, fmt=\"d\", cmap='Blues', cbar=False, \n",
    "            xticklabels=['Predicted Negative', 'Predicted Positive'],\n",
    "            yticklabels=['Actual Negative', 'Actual Positive'])\n",
    "\n",
    "\n",
    "plt.title('Confusion Matrix')\n",
    "plt.show()"
   ]
  },
  {
   "cell_type": "code",
   "execution_count": 43,
   "id": "428f0d7e",
   "metadata": {},
   "outputs": [
    {
     "name": "stdout",
     "output_type": "stream",
     "text": [
      "Accuracy: 0.713680267153547\n",
      "Precision: 0.5696513592382123\n",
      "Recall: 0.6666897114334306\n",
      "F1 Score: 0.6143623459857549\n"
     ]
    }
   ],
   "source": [
    "# Extracting the counts from the confusion matrix\n",
    "TN, FP, FN, TP = conf_matrix.numpy().ravel()\n",
    "\n",
    "# Calculating metrics\n",
    "Accuracy = (TP + TN) / (TP + TN + FP + FN)\n",
    "Precision = TP / (TP + FP)\n",
    "Recall = TP / (TP + FN)\n",
    "F1_Score = 2 * (Precision * Recall) / (Precision + Recall)\n",
    "\n",
    "print(f'Accuracy: {Accuracy}')\n",
    "print(f'Precision: {Precision}')\n",
    "print(f'Recall: {Recall}')\n",
    "print(f'F1 Score: {F1_Score}')"
   ]
  },
  {
   "cell_type": "code",
   "execution_count": 44,
   "id": "f9e9f816",
   "metadata": {},
   "outputs": [
    {
     "data": {
      "image/png": "[encoded data removed]",
      "text/plain": [
       "<Figure size 720x432 with 1 Axes>"
      ]
     },
     "metadata": {
      "needs_background": "light"
     },
     "output_type": "display_data"
    }
   ],
   "source": [
    "\n",
    "# Metrics values\n",
    "metrics_values = [Accuracy, Precision, Recall, F1_Score]\n",
    "metrics_names = ['Accuracy', 'Precision', 'Recall', 'F1 Score']\n",
    "\n",
    "# Plotting\n",
    "plt.figure(figsize=(10, 6))\n",
    "plt.bar(metrics_names, metrics_values, color=['blue', 'green', 'red', 'purple'])\n",
    "\n",
    "plt.xlabel('Metrics')\n",
    "plt.ylabel('Value')\n",
    "plt.title('Performance Metrics Comparison')\n",
    "plt.ylim(0, 1)  # Since metric values range from 0 to 1\n",
    "plt.show()"
   ]
  },
  {
   "cell_type": "markdown",
   "id": "e02236b4",
   "metadata": {},
   "source": [
    "# AUROC"
   ]
  },
  {
   "cell_type": "code",
   "execution_count": 45,
   "id": "17c7652b",
   "metadata": {},
   "outputs": [
    {
     "name": "stdout",
     "output_type": "stream",
     "text": [
      "6607/6607 [==============================] - 16s 2ms/step\n"
     ]
    }
   ],
   "source": [
    "# Assuming `model` is your trained TensorFlow model and `X_test` is your test dataset\n",
    "y_probabilities = model.predict(X_test).ravel()\n"
   ]
  },
  {
   "cell_type": "code",
   "execution_count": 46,
   "id": "c35b0b70",
   "metadata": {},
   "outputs": [
    {
     "data": {
      "text/plain": [
       "array([0.8808977 , 0.87771165, 0.87703174, ..., 0.34179017, 0.33736566,\n",
       "       0.33493122], dtype=float32)"
      ]
     },
     "execution_count": 46,
     "metadata": {},
     "output_type": "execute_result"
    }
   ],
   "source": [
    "y_probabilities"
   ]
  },
  {
   "cell_type": "code",
   "execution_count": 47,
   "id": "d98a462f",
   "metadata": {},
   "outputs": [],
   "source": [
    "from sklearn.metrics import roc_auc_score, roc_curve\n",
    "\n",
    "# Calculate AUROC\n",
    "auroc = roc_auc_score(y_test, y_probabilities)\n",
    "\n",
    "# Calculate ROC curve\n",
    "fpr, tpr, thresholds = roc_curve(y_test, y_probabilities)\n"
   ]
  },
  {
   "cell_type": "code",
   "execution_count": 48,
   "id": "7ce9f26e",
   "metadata": {
    "scrolled": false
   },
   "outputs": [
    {
     "data": {
      "image/png": "[encoded data removed]",
      "text/plain": [
       "<Figure size 720x720 with 1 Axes>"
      ]
     },
     "metadata": {
      "needs_background": "light"
     },
     "output_type": "display_data"
    }
   ],
   "source": [
    "import matplotlib.pyplot as plt\n",
    "\n",
    "plt.figure(figsize=(10, 10)) \n",
    "plt.plot(fpr, tpr, color='darkorange', lw=2, label=f'ROC curve (area = {auroc:.2f})')\n",
    "plt.plot([0, 1], [0, 1], color='navy', lw=2, linestyle='--')\n",
    "plt.xlim([0.0, 1.0])\n",
    "plt.ylim([0.0, 1.05])\n",
    "plt.xlabel('False Positive Rate')\n",
    "plt.ylabel('True Positive Rate')\n",
    "plt.title('Receiver Operating Characteristic')\n",
    "plt.legend(loc=\"lower right\")\n",
    "plt.show()"
   ]
  }
 ],
 "metadata": {
  "kernelspec": {
   "display_name": "Python 3 (clean)",
   "language": "python",
   "name": "python3_clean"
  },
  "language_info": {
   "codemirror_mode": {
    "name": "ipython",
    "version": 3
   },
   "file_extension": ".py",
   "mimetype": "text/x-python",
   "name": "python",
   "nbconvert_exporter": "python",
   "pygments_lexer": "ipython3",
   "version": "3.9.5"
  }
 },
 "nbformat": 4,
 "nbformat_minor": 5
}
