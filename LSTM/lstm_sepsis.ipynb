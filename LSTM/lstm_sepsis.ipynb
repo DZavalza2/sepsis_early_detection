{
 "cells": [
  {
   "cell_type": "code",
   "execution_count": 10,
   "id": "b81d4d23",
   "metadata": {},
   "outputs": [],
   "source": [
    "import pandas as pd\n",
    "import numpy as np\n",
    "import seaborn as sns\n",
    "import matplotlib.pyplot as plt"
   ]
  },
  {
   "cell_type": "code",
   "execution_count": 11,
   "id": "79c162cb",
   "metadata": {},
   "outputs": [],
   "source": [
    "import warnings\n",
    "warnings.filterwarnings('ignore')"
   ]
  },
  {
   "cell_type": "code",
   "execution_count": 12,
   "id": "85549e3a",
   "metadata": {},
   "outputs": [],
   "source": [
    "sequence_length = 10\n",
    "num_hours_ahead = 5"
   ]
  },
  {
   "cell_type": "code",
   "execution_count": 13,
   "id": "270da1ef",
   "metadata": {},
   "outputs": [],
   "source": [
    "# Load the arrays from the .npy files\n",
    "X_train = np.load('data2/X_train.npy')\n",
    "y_train = np.load('data2/y_train.npy')\n",
    "X_val = np.load('data2/X_val.npy')\n",
    "y_val = np.load('data2/y_val.npy')\n",
    "X_test = np.load('data2/X_test.npy')\n",
    "y_test = np.load('data2/y_test.npy')"
   ]
  },
  {
   "cell_type": "code",
   "execution_count": 17,
   "id": "85a98a38",
   "metadata": {
    "scrolled": true
   },
   "outputs": [
    {
     "name": "stderr",
     "output_type": "stream",
     "text": [
      "2024-02-16 02:36:51.991128: I tensorflow/core/platform/cpu_feature_guard.cc:182] This TensorFlow binary is optimized to use available CPU instructions in performance-critical operations.\n",
      "To enable the following instructions: AVX2 FMA, in other operations, rebuild TensorFlow with the appropriate compiler flags.\n"
     ]
    },
    {
     "name": "stdout",
     "output_type": "stream",
     "text": [
      "Num GPUs Available:  1\n"
     ]
    }
   ],
   "source": [
    "import tensorflow as tf\n",
    "\n",
    "print(\"Num GPUs Available: \", len(tf.config.experimental.list_physical_devices('GPU')))\n"
   ]
  },
  {
   "cell_type": "code",
   "execution_count": 18,
   "id": "9a72b477",
   "metadata": {},
   "outputs": [],
   "source": [
    "from tensorflow.keras.models import Sequential\n",
    "from tensorflow.keras.layers import LSTM, Dense, Dropout\n",
    "from tensorflow.keras.metrics import Recall\n",
    "from sklearn.model_selection import KFold\n",
    "from tensorflow.keras.optimizers import Adam"
   ]
  },
  {
   "cell_type": "code",
   "execution_count": 19,
   "id": "da03342c",
   "metadata": {},
   "outputs": [],
   "source": [
    "# Indices for each class\n",
    "indices_class_0 = np.where(y_train == 0)[0]\n",
    "indices_class_1 = np.where(y_train == 1)[0]"
   ]
  },
  {
   "cell_type": "code",
   "execution_count": 20,
   "id": "80532f48",
   "metadata": {},
   "outputs": [],
   "source": [
    "# Function to create the model with different hyperparameters\n",
    "def create_model(n_lstm_units=100, dropout_rate=0.2):\n",
    "    model = Sequential([\n",
    "        LSTM(n_lstm_units, input_shape=(X_train.shape[1], X_train.shape[2]), return_sequences=True),\n",
    "        Dropout(dropout_rate),\n",
    "        LSTM(n_lstm_units),\n",
    "        Dropout(dropout_rate),\n",
    "        Dense(1, activation='sigmoid')\n",
    "    ])\n",
    "    model.compile(optimizer='adam', loss='binary_crossentropy', metrics=['accuracy', Recall()])\n",
    "    return model"
   ]
  },
  {
   "cell_type": "markdown",
   "id": "0e131f50",
   "metadata": {},
   "source": [
    "# Grid Search to find the best parameters"
   ]
  },
  {
   "cell_type": "code",
   "execution_count": 21,
   "id": "ee3faac7",
   "metadata": {},
   "outputs": [
    {
     "name": "stdout",
     "output_type": "stream",
     "text": [
      "Testing model with 50 LSTM units, dropout rate 0.2, batch size 64\n"
     ]
    },
    {
     "name": "stderr",
     "output_type": "stream",
     "text": [
      "2024-02-16 02:37:01.849306: I tensorflow/core/common_runtime/gpu/gpu_device.cc:1639] Created device /job:localhost/replica:0/task:0/device:GPU:0 with 10398 MB memory:  -> device: 0, name: NVIDIA GeForce GTX 1080 Ti, pci bus id: 0000:89:00.0, compute capability: 6.1\n",
      "2024-02-16 02:37:07.363401: I tensorflow/compiler/xla/stream_executor/cuda/cuda_dnn.cc:432] Loaded cuDNN version 8600\n",
      "2024-02-16 02:37:07.519076: I tensorflow/compiler/xla/service/service.cc:168] XLA service 0x563547508680 initialized for platform CUDA (this does not guarantee that XLA will be used). Devices:\n",
      "2024-02-16 02:37:07.519145: I tensorflow/compiler/xla/service/service.cc:176]   StreamExecutor device (0): NVIDIA GeForce GTX 1080 Ti, Compute Capability 6.1\n",
      "2024-02-16 02:37:07.545782: I tensorflow/compiler/mlir/tensorflow/utils/dump_mlir_util.cc:255] disabling MLIR crash reproducer, set env var `MLIR_CRASH_REPRODUCER_DIRECTORY` to enable.\n",
      "2024-02-16 02:37:07.802291: I ./tensorflow/compiler/jit/device_compiler.h:186] Compiled cluster using XLA!  This line is logged at most once for the lifetime of the process.\n"
     ]
    },
    {
     "name": "stdout",
     "output_type": "stream",
     "text": [
      "Validation Loss: 0.4191944897174835, Validation Accuracy: 0.7994102239608765, Validation Recall: 0.8245278596878052\n",
      "Testing model with 50 LSTM units, dropout rate 0.3, batch size 64\n",
      "Validation Loss: 0.4379529058933258, Validation Accuracy: 0.7881125807762146, Validation Recall: 0.8337888121604919\n",
      "Testing model with 50 LSTM units, dropout rate 0.4, batch size 64\n",
      "Validation Loss: 0.41574418544769287, Validation Accuracy: 0.8048403263092041, Validation Recall: 0.8019979596138\n",
      "Testing model with 75 LSTM units, dropout rate 0.2, batch size 64\n",
      "Validation Loss: 0.41887685656547546, Validation Accuracy: 0.7985730767250061, Validation Recall: 0.8289912939071655\n",
      "Testing model with 75 LSTM units, dropout rate 0.3, batch size 64\n",
      "Validation Loss: 0.4258643090724945, Validation Accuracy: 0.7957072257995605, Validation Recall: 0.8249225616455078\n",
      "Testing model with 75 LSTM units, dropout rate 0.4, batch size 64\n",
      "Validation Loss: 0.4180811047554016, Validation Accuracy: 0.7955412864685059, Validation Recall: 0.8305702209472656\n",
      "Testing model with 100 LSTM units, dropout rate 0.2, batch size 64\n",
      "Validation Loss: 0.4124850630760193, Validation Accuracy: 0.8018915057182312, Validation Recall: 0.8227060437202454\n",
      "Testing model with 100 LSTM units, dropout rate 0.3, batch size 64\n",
      "Validation Loss: 0.40967413783073425, Validation Accuracy: 0.8114997744560242, Validation Recall: 0.804244875907898\n",
      "Testing model with 100 LSTM units, dropout rate 0.4, batch size 64\n",
      "Validation Loss: 0.42376115918159485, Validation Accuracy: 0.7957223057746887, Validation Recall: 0.833060085773468\n",
      "Testing model with 125 LSTM units, dropout rate 0.2, batch size 64\n",
      "Validation Loss: 0.4050610661506653, Validation Accuracy: 0.8063788414001465, Validation Recall: 0.8095281720161438\n",
      "Testing model with 125 LSTM units, dropout rate 0.3, batch size 64\n",
      "Validation Loss: 0.42084914445877075, Validation Accuracy: 0.7978038191795349, Validation Recall: 0.8314204216003418\n",
      "Testing model with 125 LSTM units, dropout rate 0.4, batch size 64\n",
      "Validation Loss: 0.4045053720474243, Validation Accuracy: 0.8013710975646973, Validation Recall: 0.8180299997329712\n",
      "Testing model with 150 LSTM units, dropout rate 0.2, batch size 64\n",
      "Validation Loss: 0.4089384973049164, Validation Accuracy: 0.803995668888092, Validation Recall: 0.8166332840919495\n",
      "Testing model with 150 LSTM units, dropout rate 0.3, batch size 64\n",
      "Validation Loss: 0.4276205897331238, Validation Accuracy: 0.7940932512283325, Validation Recall: 0.8348819017410278\n",
      "Testing model with 150 LSTM units, dropout rate 0.4, batch size 64\n",
      "Validation Loss: 0.39812952280044556, Validation Accuracy: 0.816137969493866, Validation Recall: 0.7812291383743286\n",
      "Best Hyperparameters: LSTM Units: 150, Dropout Rate: 0.4, Batch Size: 64\n",
      "Validation Loss: 0.39812952280044556, Validation Accuracy: 0.816137969493866, Validation Recall: 0.7812291383743286\n"
     ]
    }
   ],
   "source": [
    "# Define hyperparameters to test\n",
    "lstm_units_options = [50, 75, 100, 125, 150]\n",
    "dropout_rate_options = [0.2, 0.3, 0.4]\n",
    "batch_size_options = [64]\n",
    "num_epochs = 5  # Adjust the number of epochs for your experiments\n",
    "\n",
    "# Store the results\n",
    "results = []\n",
    "\n",
    "# Loop over all possible combinations of hyperparameters\n",
    "for n_units in lstm_units_options:\n",
    "    for dropout_rate in dropout_rate_options:\n",
    "        for batch_size in batch_size_options:\n",
    "            print(f\"Testing model with {n_units} LSTM units, dropout rate {dropout_rate}, batch size {batch_size}\")\n",
    "            # Create the model with the current set of hyperparameters\n",
    "            model = create_model(n_lstm_units=n_units, dropout_rate=dropout_rate)\n",
    "\n",
    "            for epoch in range(num_epochs):\n",
    "                # Randomly sample indices from the majority class to match the minority class size\n",
    "                sampled_majority_indices = np.random.choice(indices_class_0, size=len(indices_class_1), replace=False)\n",
    "                \n",
    "                # Combine sampled majority indices with all minority class indices\n",
    "                combined_indices = np.concatenate([sampled_majority_indices, indices_class_1])\n",
    "                \n",
    "                # Shuffle the combined indices\n",
    "                np.random.shuffle(combined_indices)\n",
    "\n",
    "                # Use the combined indices to create the training dataset for this epoch\n",
    "                X_train_epoch = X_train[combined_indices]\n",
    "                y_train_epoch = y_train[combined_indices]\n",
    "\n",
    "                # Train the model on this epoch's data\n",
    "                model.fit(X_train_epoch, y_train_epoch, epochs=1, batch_size=batch_size, validation_data=(X_val, y_val), verbose=0)\n",
    "            \n",
    "            # Evaluate the model on the validation set\n",
    "            val_loss, val_accuracy, val_recall = model.evaluate(X_val, y_val, verbose=0)\n",
    "            print(f\"Validation Loss: {val_loss}, Validation Accuracy: {val_accuracy}, Validation Recall: {val_recall}\")\n",
    "            \n",
    "            # Append the results\n",
    "            results.append((n_units, dropout_rate, batch_size, val_loss, val_accuracy, val_recall))\n",
    "\n",
    "# After running the experiments, analyze the results to find the best set of hyperparameters based on validation performance\n",
    "best_result = sorted(results, key=lambda x: x[4], reverse=True)[0]  # Example: sort by accuracy\n",
    "print(f\"Best Hyperparameters: LSTM Units: {best_result[0]}, Dropout Rate: {best_result[1]}, Batch Size: {best_result[2]}\")\n",
    "print(f\"Validation Loss: {best_result[3]}, Validation Accuracy: {best_result[4]}, Validation Recall: {best_result[5]}\")\n"
   ]
  },
  {
   "cell_type": "code",
   "execution_count": null,
   "id": "963be747",
   "metadata": {},
   "outputs": [],
   "source": []
  },
  {
   "cell_type": "markdown",
   "id": "537e7da0",
   "metadata": {},
   "source": [
    "# Combining Test Validation using best hyperparameter"
   ]
  },
  {
   "cell_type": "code",
   "execution_count": 24,
   "id": "1172e9c9",
   "metadata": {
    "scrolled": true
   },
   "outputs": [
    {
     "name": "stdout",
     "output_type": "stream",
     "text": [
      "4170/4170 [==============================] - 41s 9ms/step - loss: 0.4869 - accuracy: 0.7661 - recall_17: 0.7774 - val_loss: 0.4584 - val_accuracy: 0.7716 - val_recall_17: 0.8236\n",
      "4170/4170 [==============================] - 33s 8ms/step - loss: 0.4334 - accuracy: 0.7966 - recall_17: 0.8123 - val_loss: 0.4556 - val_accuracy: 0.7788 - val_recall_17: 0.8421\n",
      "4170/4170 [==============================] - 37s 9ms/step - loss: 0.4218 - accuracy: 0.8040 - recall_17: 0.8184 - val_loss: 0.4219 - val_accuracy: 0.8062 - val_recall_17: 0.8055\n",
      "4170/4170 [==============================] - 34s 8ms/step - loss: 0.4152 - accuracy: 0.8084 - recall_17: 0.8209 - val_loss: 0.4060 - val_accuracy: 0.8085 - val_recall_17: 0.8147\n",
      "4170/4170 [==============================] - 33s 8ms/step - loss: 0.4113 - accuracy: 0.8101 - recall_17: 0.8237 - val_loss: 0.4057 - val_accuracy: 0.8055 - val_recall_17: 0.8173\n"
     ]
    }
   ],
   "source": [
    "\n",
    "# Combine the features (X) from the training and validation sets\n",
    "X_combined = np.concatenate((X_train, X_val), axis=0)\n",
    "\n",
    "# Combine the labels (y) from the training and validation sets\n",
    "y_combined = np.concatenate((y_train, y_val), axis=0)\n",
    "\n",
    "# Indices for each class in the combined dataset\n",
    "indices_class_0_combined = np.where(y_combined == 0)[0]\n",
    "indices_class_1_combined = np.where(y_combined == 1)[0]\n",
    "\n",
    "# Create the model outside the loop to avoid reinitializing it in each epoch\n",
    "model = create_model(n_lstm_units=125, dropout_rate=0.2)\n",
    "\n",
    "# Assuming num_epochs and batch_size are defined\n",
    "for epoch in range(5):\n",
    "    # Randomly sample indices from the majority class (class 0) to match the minority class (class 1) size\n",
    "    sampled_majority_indices = np.random.choice(indices_class_0_combined, size=len(indices_class_1_combined), replace=False)\n",
    "    \n",
    "    # Combine sampled majority indices with all minority class indices\n",
    "    combined_indices = np.concatenate([sampled_majority_indices, indices_class_1_combined])\n",
    "    \n",
    "    # Shuffle the combined indices\n",
    "    np.random.shuffle(combined_indices)\n",
    "    \n",
    "    # Use the combined indices to create the balanced training dataset for this epoch\n",
    "    X_train_epoch = X_combined[combined_indices]\n",
    "    y_train_epoch = y_combined[combined_indices]\n",
    "    \n",
    "    # Train the model on this epoch's balanced data\n",
    "    # Make sure to replace 'epochs=1' with the correct number or remove it if you're iterating externally\n",
    "    model.fit(X_train_epoch, y_train_epoch, epochs=1, batch_size=64, validation_data=(X_test, y_test), verbose=1)"
   ]
  },
  {
   "cell_type": "code",
   "execution_count": null,
   "id": "f79bbae5",
   "metadata": {},
   "outputs": [],
   "source": []
  },
  {
   "cell_type": "markdown",
   "id": "2aa28874",
   "metadata": {},
   "source": [
    "# Evaluating the model"
   ]
  },
  {
   "cell_type": "code",
   "execution_count": 25,
   "id": "5febad62",
   "metadata": {},
   "outputs": [
    {
     "name": "stdout",
     "output_type": "stream",
     "text": [
      "4149/4149 [==============================] - 14s 3ms/step - loss: 0.4057 - accuracy: 0.8055 - recall_17: 0.8173\n",
      "Test Loss: 0.4057289958000183\n",
      "Test Accuracy: 0.8055089116096497\n",
      "Test Recall: 0.817329466342926\n"
     ]
    }
   ],
   "source": [
    "test_loss, test_accuracy, test_recall = model.evaluate(X_test, y_test)\n",
    "print(f\"Test Loss: {test_loss}\")\n",
    "print(f\"Test Accuracy: {test_accuracy}\")\n",
    "print(f\"Test Recall: {test_recall}\")"
   ]
  },
  {
   "cell_type": "code",
   "execution_count": 26,
   "id": "185e622a",
   "metadata": {},
   "outputs": [
    {
     "name": "stdout",
     "output_type": "stream",
     "text": [
      "4149/4149 [==============================] - 12s 3ms/step\n"
     ]
    }
   ],
   "source": [
    "predictions = model.predict(X_test)\n",
    "predicted_classes = (predictions >= 0.5).astype(int).flatten()"
   ]
  },
  {
   "cell_type": "code",
   "execution_count": 27,
   "id": "bf3f996d",
   "metadata": {},
   "outputs": [
    {
     "name": "stdout",
     "output_type": "stream",
     "text": [
      "tf.Tensor(\n",
      "[[79137 19607]\n",
      " [ 6215 27808]], shape=(2, 2), dtype=int32)\n"
     ]
    }
   ],
   "source": [
    "from tensorflow.math import confusion_matrix\n",
    "\n",
    "conf_matrix = confusion_matrix(y_test, predicted_classes)\n",
    "print(conf_matrix)"
   ]
  },
  {
   "cell_type": "code",
   "execution_count": 36,
   "id": "2e3d949b",
   "metadata": {},
   "outputs": [
    {
     "data": {
      "text/plain": [
       "array([['True Negative', 'False Positive'],\n",
       "       ['False Negative', 'True Positive']], dtype='<U14')"
      ]
     },
     "execution_count": 36,
     "metadata": {},
     "output_type": "execute_result"
    }
   ],
   "source": [
    "np.array([['True Negative', 'False Positive'],\n",
    " ['False Negative', 'True Positive']])"
   ]
  },
  {
   "cell_type": "code",
   "execution_count": 37,
   "id": "b020eb7c",
   "metadata": {},
   "outputs": [
    {
     "data": {
      "image/png": "[encoded data removed]",
      "text/plain": [
       "<Figure size 576x432 with 1 Axes>"
      ]
     },
     "metadata": {
      "needs_background": "light"
     },
     "output_type": "display_data"
    }
   ],
   "source": [
    "# Since your confusion matrix is already a TensorFlow tensor, convert it to a numpy array for visualization.\n",
    "conf_matrix_np = conf_matrix.numpy()\n",
    "\n",
    "plt.figure(figsize=(8, 6))\n",
    "sns.heatmap(conf_matrix_np, annot=True, fmt=\"d\", cmap='Blues', cbar=False, \n",
    "            xticklabels=['Predicted Negative', 'Predicted Positive'],\n",
    "            yticklabels=['Actual Negative', 'Actual Positive'])\n",
    "\n",
    "\n",
    "plt.title('Confusion Matrix')\n",
    "plt.show()"
   ]
  },
  {
   "cell_type": "code",
   "execution_count": 38,
   "id": "428f0d7e",
   "metadata": {},
   "outputs": [
    {
     "name": "stdout",
     "output_type": "stream",
     "text": [
      "Accuracy: 0.8055088990487094\n",
      "Precision: 0.5864810713909101\n",
      "Recall: 0.8173294536049143\n",
      "F1 Score: 0.6829244333112306\n"
     ]
    }
   ],
   "source": [
    "# Extracting the counts from the confusion matrix\n",
    "TN, FP, FN, TP = conf_matrix.numpy().ravel()\n",
    "\n",
    "# Calculating metrics\n",
    "Accuracy = (TP + TN) / (TP + TN + FP + FN)\n",
    "Precision = TP / (TP + FP)\n",
    "Recall = TP / (TP + FN)\n",
    "F1_Score = 2 * (Precision * Recall) / (Precision + Recall)\n",
    "\n",
    "print(f'Accuracy: {Accuracy}')\n",
    "print(f'Precision: {Precision}')\n",
    "print(f'Recall: {Recall}')\n",
    "print(f'F1 Score: {F1_Score}')"
   ]
  },
  {
   "cell_type": "code",
   "execution_count": 39,
   "id": "f9e9f816",
   "metadata": {},
   "outputs": [
    {
     "data": {
      "image/png": "[encoded data removed]",
      "text/plain": [
       "<Figure size 720x432 with 1 Axes>"
      ]
     },
     "metadata": {
      "needs_background": "light"
     },
     "output_type": "display_data"
    }
   ],
   "source": [
    "\n",
    "# Metrics values\n",
    "metrics_values = [Accuracy, Precision, Recall, F1_Score]\n",
    "metrics_names = ['Accuracy', 'Precision', 'Recall', 'F1 Score']\n",
    "\n",
    "# Plotting\n",
    "plt.figure(figsize=(10, 6))\n",
    "plt.bar(metrics_names, metrics_values, color=['blue', 'green', 'red', 'purple'])\n",
    "\n",
    "plt.xlabel('Metrics')\n",
    "plt.ylabel('Value')\n",
    "plt.title('Performance Metrics Comparison')\n",
    "plt.ylim(0, 1)  # Since metric values range from 0 to 1\n",
    "plt.show()"
   ]
  },
  {
   "cell_type": "markdown",
   "id": "e02236b4",
   "metadata": {},
   "source": [
    "# AUROC"
   ]
  },
  {
   "cell_type": "code",
   "execution_count": 40,
   "id": "17c7652b",
   "metadata": {},
   "outputs": [
    {
     "name": "stdout",
     "output_type": "stream",
     "text": [
      "4149/4149 [==============================] - 11s 3ms/step\n"
     ]
    }
   ],
   "source": [
    "# Assuming `model` is your trained TensorFlow model and `X_test` is your test dataset\n",
    "y_probabilities = model.predict(X_test).ravel()\n"
   ]
  },
  {
   "cell_type": "code",
   "execution_count": 41,
   "id": "c35b0b70",
   "metadata": {},
   "outputs": [
    {
     "data": {
      "text/plain": [
       "array([0.9322302 , 0.9349618 , 0.9350221 , ..., 0.00113248, 0.00134409,\n",
       "       0.00140318], dtype=float32)"
      ]
     },
     "execution_count": 41,
     "metadata": {},
     "output_type": "execute_result"
    }
   ],
   "source": [
    "y_probabilities"
   ]
  },
  {
   "cell_type": "code",
   "execution_count": 42,
   "id": "d98a462f",
   "metadata": {},
   "outputs": [],
   "source": [
    "from sklearn.metrics import roc_auc_score, roc_curve\n",
    "\n",
    "# Calculate AUROC\n",
    "auroc = roc_auc_score(y_test, y_probabilities)\n",
    "\n",
    "# Calculate ROC curve\n",
    "fpr, tpr, thresholds = roc_curve(y_test, y_probabilities)\n"
   ]
  },
  {
   "cell_type": "code",
   "execution_count": 43,
   "id": "7ce9f26e",
   "metadata": {
    "scrolled": false
   },
   "outputs": [
    {
     "data": {
      "image/png": "[encoded data removed]",
      "text/plain": [
       "<Figure size 720x720 with 1 Axes>"
      ]
     },
     "metadata": {
      "needs_background": "light"
     },
     "output_type": "display_data"
    }
   ],
   "source": [
    "import matplotlib.pyplot as plt\n",
    "\n",
    "plt.figure(figsize=(10, 10)) \n",
    "plt.plot(fpr, tpr, color='darkorange', lw=2, label=f'ROC curve (area = {auroc:.2f})')\n",
    "plt.plot([0, 1], [0, 1], color='navy', lw=2, linestyle='--')\n",
    "plt.xlim([0.0, 1.0])\n",
    "plt.ylim([0.0, 1.05])\n",
    "plt.xlabel('False Positive Rate')\n",
    "plt.ylabel('True Positive Rate')\n",
    "plt.title('Receiver Operating Characteristic')\n",
    "plt.legend(loc=\"lower right\")\n",
    "plt.show()"
   ]
  },
  {
   "cell_type": "code",
   "execution_count": null,
   "id": "b56a9774",
   "metadata": {},
   "outputs": [],
   "source": []
  }
 ],
 "metadata": {
  "kernelspec": {
   "display_name": "Python 3 (clean)",
   "language": "python",
   "name": "python3_clean"
  },
  "language_info": {
   "codemirror_mode": {
    "name": "ipython",
    "version": 3
   },
   "file_extension": ".py",
   "mimetype": "text/x-python",
   "name": "python",
   "nbconvert_exporter": "python",
   "pygments_lexer": "ipython3",
   "version": "3.9.5"
  }
 },
 "nbformat": 4,
 "nbformat_minor": 5
}
