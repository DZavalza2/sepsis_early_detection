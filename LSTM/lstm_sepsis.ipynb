{
 "cells": [
  {
   "cell_type": "code",
   "execution_count": 1,
   "id": "b81d4d23",
   "metadata": {},
   "outputs": [],
   "source": [
    "import pandas as pd\n",
    "import numpy as np\n",
    "import seaborn as sns\n",
    "import matplotlib.pyplot as plt"
   ]
  },
  {
   "cell_type": "code",
   "execution_count": 2,
   "id": "79c162cb",
   "metadata": {},
   "outputs": [],
   "source": [
    "import warnings\n",
    "warnings.filterwarnings('ignore')"
   ]
  },
  {
   "cell_type": "code",
   "execution_count": 3,
   "id": "85549e3a",
   "metadata": {},
   "outputs": [],
   "source": [
    "sequence_length = 10\n",
    "num_hours_ahead = 5"
   ]
  },
  {
   "cell_type": "code",
   "execution_count": 4,
   "id": "270da1ef",
   "metadata": {},
   "outputs": [],
   "source": [
    "# Load the arrays from the .npy files\n",
    "X_train = np.load('data2/X_train.npy')\n",
    "y_train = np.load('data2/y_train.npy')\n",
    "X_val = np.load('data2/X_val.npy')\n",
    "y_val = np.load('data2/y_val.npy')\n",
    "X_test = np.load('data2/X_test.npy')\n",
    "y_test = np.load('data2/y_test.npy')"
   ]
  },
  {
   "cell_type": "code",
   "execution_count": 5,
   "id": "85a98a38",
   "metadata": {
    "scrolled": true
   },
   "outputs": [
    {
     "name": "stderr",
     "output_type": "stream",
     "text": [
      "2024-02-10 00:01:41.945532: I tensorflow/core/util/port.cc:110] oneDNN custom operations are on. You may see slightly different numerical results due to floating-point round-off errors from different computation orders. To turn them off, set the environment variable `TF_ENABLE_ONEDNN_OPTS=0`.\n",
      "2024-02-10 00:01:41.998637: I tensorflow/core/platform/cpu_feature_guard.cc:182] This TensorFlow binary is optimized to use available CPU instructions in performance-critical operations.\n",
      "To enable the following instructions: AVX2 AVX512F AVX512_VNNI FMA, in other operations, rebuild TensorFlow with the appropriate compiler flags.\n"
     ]
    },
    {
     "name": "stdout",
     "output_type": "stream",
     "text": [
      "Num GPUs Available:  1\n"
     ]
    }
   ],
   "source": [
    "import tensorflow as tf\n",
    "\n",
    "print(\"Num GPUs Available: \", len(tf.config.experimental.list_physical_devices('GPU')))\n"
   ]
  },
  {
   "cell_type": "code",
   "execution_count": 5,
   "id": "9a72b477",
   "metadata": {},
   "outputs": [
    {
     "name": "stderr",
     "output_type": "stream",
     "text": [
      "2024-02-11 00:08:10.944603: I tensorflow/core/util/port.cc:110] oneDNN custom operations are on. You may see slightly different numerical results due to floating-point round-off errors from different computation orders. To turn them off, set the environment variable `TF_ENABLE_ONEDNN_OPTS=0`.\n",
      "2024-02-11 00:08:10.999401: I tensorflow/core/platform/cpu_feature_guard.cc:182] This TensorFlow binary is optimized to use available CPU instructions in performance-critical operations.\n",
      "To enable the following instructions: AVX2 AVX512F AVX512_VNNI FMA, in other operations, rebuild TensorFlow with the appropriate compiler flags.\n"
     ]
    }
   ],
   "source": [
    "from tensorflow.keras.models import Sequential\n",
    "from tensorflow.keras.layers import LSTM, Dense, Dropout\n",
    "from tensorflow.keras.metrics import Recall\n",
    "from sklearn.model_selection import KFold\n",
    "from tensorflow.keras.optimizers import Adam"
   ]
  },
  {
   "cell_type": "code",
   "execution_count": 6,
   "id": "da03342c",
   "metadata": {},
   "outputs": [],
   "source": [
    "# Indices for each class\n",
    "indices_class_0 = np.where(y_train == 0)[0]\n",
    "indices_class_1 = np.where(y_train == 1)[0]\n",
    "\n",
    "# Data for each class\n",
    "X_class_0 = X_train[indices_class_0]\n",
    "X_class_1 = X_train[indices_class_1]\n",
    "y_class_0 = y_train[indices_class_0]\n",
    "y_class_1 = y_train[indices_class_1]"
   ]
  },
  {
   "cell_type": "code",
   "execution_count": 7,
   "id": "80532f48",
   "metadata": {},
   "outputs": [],
   "source": [
    "# Function to create the model with different hyperparameters\n",
    "def create_model(n_lstm_units=100, dropout_rate=0.2):\n",
    "    model = Sequential([\n",
    "        LSTM(n_lstm_units, input_shape=(X_train.shape[1], X_train.shape[2]), return_sequences=True),\n",
    "        Dropout(dropout_rate),\n",
    "        LSTM(n_lstm_units),\n",
    "        Dropout(dropout_rate),\n",
    "        Dense(1, activation='sigmoid')\n",
    "    ])\n",
    "    model.compile(optimizer='adam', loss='binary_crossentropy', metrics=['accuracy', Recall()])\n",
    "    return model"
   ]
  },
  {
   "cell_type": "code",
   "execution_count": null,
   "id": "29d6c815",
   "metadata": {},
   "outputs": [],
   "source": []
  },
  {
   "cell_type": "code",
   "execution_count": null,
   "id": "4bf61dfa",
   "metadata": {},
   "outputs": [],
   "source": []
  },
  {
   "cell_type": "code",
   "execution_count": 9,
   "id": "ee3faac7",
   "metadata": {},
   "outputs": [
    {
     "name": "stdout",
     "output_type": "stream",
     "text": [
      "Testing model with 50 LSTM units, dropout rate 0.2, batch size 64\n"
     ]
    },
    {
     "name": "stderr",
     "output_type": "stream",
     "text": [
      "2024-02-10 00:02:01.790170: I tensorflow/core/common_runtime/gpu/gpu_device.cc:1639] Created device /job:localhost/replica:0/task:0/device:GPU:0 with 9622 MB memory:  -> device: 0, name: NVIDIA GeForce RTX 2080 Ti, pci bus id: 0000:da:00.0, compute capability: 7.5\n",
      "2024-02-10 00:02:06.076916: I tensorflow/compiler/xla/stream_executor/cuda/cuda_dnn.cc:432] Loaded cuDNN version 8600\n",
      "2024-02-10 00:02:06.291915: I tensorflow/compiler/xla/service/service.cc:168] XLA service 0x7fb1900623e0 initialized for platform CUDA (this does not guarantee that XLA will be used). Devices:\n",
      "2024-02-10 00:02:06.291990: I tensorflow/compiler/xla/service/service.cc:176]   StreamExecutor device (0): NVIDIA GeForce RTX 2080 Ti, Compute Capability 7.5\n",
      "2024-02-10 00:02:06.307178: I tensorflow/compiler/mlir/tensorflow/utils/dump_mlir_util.cc:255] disabling MLIR crash reproducer, set env var `MLIR_CRASH_REPRODUCER_DIRECTORY` to enable.\n",
      "2024-02-10 00:02:06.474458: I ./tensorflow/compiler/jit/device_compiler.h:186] Compiled cluster using XLA!  This line is logged at most once for the lifetime of the process.\n"
     ]
    },
    {
     "name": "stdout",
     "output_type": "stream",
     "text": [
      "Validation Loss: 0.42482054233551025, Validation Accuracy: 0.7946438193321228, Validation Recall: 0.8195178508758545\n",
      "Testing model with 50 LSTM units, dropout rate 0.3, batch size 64\n",
      "Validation Loss: 0.4315246045589447, Validation Accuracy: 0.794191300868988, Validation Recall: 0.8200036287307739\n",
      "Testing model with 50 LSTM units, dropout rate 0.4, batch size 64\n",
      "Validation Loss: 0.42891472578048706, Validation Accuracy: 0.7894625663757324, Validation Recall: 0.8135969042778015\n",
      "Testing model with 75 LSTM units, dropout rate 0.2, batch size 64\n",
      "Validation Loss: 0.43078210949897766, Validation Accuracy: 0.7920268177986145, Validation Recall: 0.8170887231826782\n",
      "Testing model with 75 LSTM units, dropout rate 0.3, batch size 64\n",
      "Validation Loss: 0.41564905643463135, Validation Accuracy: 0.7998853921890259, Validation Recall: 0.8083743453025818\n",
      "Testing model with 75 LSTM units, dropout rate 0.4, batch size 64\n",
      "Validation Loss: 0.4363572597503662, Validation Accuracy: 0.7936935424804688, Validation Recall: 0.8128681778907776\n",
      "Testing model with 100 LSTM units, dropout rate 0.2, batch size 64\n",
      "Validation Loss: 0.434305876493454, Validation Accuracy: 0.7889195680618286, Validation Recall: 0.8263192772865295\n",
      "Testing model with 100 LSTM units, dropout rate 0.3, batch size 64\n",
      "Validation Loss: 0.4546453058719635, Validation Accuracy: 0.7709323167800903, Validation Recall: 0.8507317900657654\n",
      "Testing model with 100 LSTM units, dropout rate 0.4, batch size 64\n",
      "Validation Loss: 0.4096563458442688, Validation Accuracy: 0.8064014911651611, Validation Recall: 0.788577139377594\n",
      "Testing model with 125 LSTM units, dropout rate 0.2, batch size 64\n",
      "Validation Loss: 0.42047807574272156, Validation Accuracy: 0.7945306897163391, Validation Recall: 0.8141434192657471\n",
      "Testing model with 125 LSTM units, dropout rate 0.3, batch size 64\n",
      "Validation Loss: 0.4026438593864441, Validation Accuracy: 0.8079174160957336, Validation Recall: 0.7906419038772583\n",
      "Testing model with 125 LSTM units, dropout rate 0.4, batch size 64\n",
      "Validation Loss: 0.44260576367378235, Validation Accuracy: 0.7878637313842773, Validation Recall: 0.832118809223175\n",
      "Testing model with 150 LSTM units, dropout rate 0.2, batch size 64\n",
      "Validation Loss: 0.3942524790763855, Validation Accuracy: 0.8131589889526367, Validation Recall: 0.7723021507263184\n",
      "Testing model with 150 LSTM units, dropout rate 0.3, batch size 64\n",
      "Validation Loss: 0.4159766435623169, Validation Accuracy: 0.7971552014350891, Validation Recall: 0.8124734163284302\n",
      "Testing model with 150 LSTM units, dropout rate 0.4, batch size 64\n",
      "Validation Loss: 0.4407098591327667, Validation Accuracy: 0.7841681838035583, Validation Recall: 0.8329082131385803\n",
      "Best Hyperparameters: LSTM Units: 150, Dropout Rate: 0.2, Batch Size: 64\n",
      "Validation Loss: 0.3942524790763855, Validation Accuracy: 0.8131589889526367, Validation Recall: 0.7723021507263184\n"
     ]
    }
   ],
   "source": [
    "# Define hyperparameters to test\n",
    "lstm_units_options = [50, 75, 100, 125, 150]\n",
    "dropout_rate_options = [0.2, 0.3, 0.4]\n",
    "batch_size_options = [64]\n",
    "num_epochs = 5  # Adjust the number of epochs for your experiments\n",
    "\n",
    "# Store the results\n",
    "results = []\n",
    "\n",
    "# Loop over all possible combinations of hyperparameters\n",
    "for n_units in lstm_units_options:\n",
    "    for dropout_rate in dropout_rate_options:\n",
    "        for batch_size in batch_size_options:\n",
    "            print(f\"Testing model with {n_units} LSTM units, dropout rate {dropout_rate}, batch size {batch_size}\")\n",
    "            # Create the model with the current set of hyperparameters\n",
    "            model = create_model(n_lstm_units=n_units, dropout_rate=dropout_rate)\n",
    "\n",
    "            for epoch in range(num_epochs):\n",
    "                # Randomly sample indices from the majority class to match the minority class size\n",
    "                sampled_majority_indices = np.random.choice(indices_class_0, size=len(indices_class_1), replace=False)\n",
    "                \n",
    "                # Combine sampled majority indices with all minority class indices\n",
    "                combined_indices = np.concatenate([sampled_majority_indices, indices_class_1])\n",
    "                \n",
    "                # Shuffle the combined indices\n",
    "                np.random.shuffle(combined_indices)\n",
    "\n",
    "                # Use the combined indices to create the training dataset for this epoch\n",
    "                X_train_epoch = X_train[combined_indices]\n",
    "                y_train_epoch = y_train[combined_indices]\n",
    "\n",
    "                # Train the model on this epoch's data\n",
    "                model.fit(X_train_epoch, y_train_epoch, epochs=1, batch_size=batch_size, validation_data=(X_val, y_val), verbose=0)\n",
    "            \n",
    "            # Evaluate the model on the validation set\n",
    "            val_loss, val_accuracy, val_recall = model.evaluate(X_val, y_val, verbose=0)\n",
    "            print(f\"Validation Loss: {val_loss}, Validation Accuracy: {val_accuracy}, Validation Recall: {val_recall}\")\n",
    "            \n",
    "            # Append the results\n",
    "            results.append((n_units, dropout_rate, batch_size, val_loss, val_accuracy, val_recall))\n",
    "\n",
    "# After running the experiments, analyze the results to find the best set of hyperparameters based on validation performance\n",
    "best_result = sorted(results, key=lambda x: x[4], reverse=True)[0]  # Example: sort by accuracy\n",
    "print(f\"Best Hyperparameters: LSTM Units: {best_result[0]}, Dropout Rate: {best_result[1]}, Batch Size: {best_result[2]}\")\n",
    "print(f\"Validation Loss: {best_result[3]}, Validation Accuracy: {best_result[4]}, Validation Recall: {best_result[5]}\")\n"
   ]
  },
  {
   "cell_type": "code",
   "execution_count": null,
   "id": "963be747",
   "metadata": {},
   "outputs": [],
   "source": []
  },
  {
   "cell_type": "code",
   "execution_count": null,
   "id": "fcbbcd90",
   "metadata": {},
   "outputs": [],
   "source": []
  },
  {
   "cell_type": "code",
   "execution_count": 8,
   "id": "50eddac7",
   "metadata": {},
   "outputs": [],
   "source": [
    "# Combine the features (X) from the training and validation sets\n",
    "X_combined = np.concatenate((X_train, X_val), axis=0)\n",
    "\n",
    "# Combine the labels (y) from the training and validation sets\n",
    "y_combined = np.concatenate((y_train, y_val), axis=0)"
   ]
  },
  {
   "cell_type": "code",
   "execution_count": 9,
   "id": "12fbfffa",
   "metadata": {},
   "outputs": [],
   "source": [
    "# Indices for each class in the combined dataset\n",
    "indices_class_0_combined = np.where(y_combined == 0)[0]\n",
    "indices_class_1_combined = np.where(y_combined == 1)[0]"
   ]
  },
  {
   "cell_type": "code",
   "execution_count": 50,
   "id": "1172e9c9",
   "metadata": {
    "scrolled": true
   },
   "outputs": [
    {
     "name": "stdout",
     "output_type": "stream",
     "text": [
      "4170/4170 [==============================] - 62s 14ms/step - loss: 0.4948 - accuracy: 0.7603 - recall_5: 0.7762 - val_loss: 0.8564 - val_accuracy: 0.2553 - val_recall_5: 0.9884\n",
      "4170/4170 [==============================] - 58s 14ms/step - loss: 0.4468 - accuracy: 0.7888 - recall_5: 0.8054 - val_loss: 0.7854 - val_accuracy: 0.2556 - val_recall_5: 0.9715\n",
      "4170/4170 [==============================] - 59s 14ms/step - loss: 0.4330 - accuracy: 0.7974 - recall_5: 0.8119 - val_loss: 0.9822 - val_accuracy: 0.2555 - val_recall_5: 0.9932\n",
      "4170/4170 [==============================] - 58s 14ms/step - loss: 0.4261 - accuracy: 0.8014 - recall_5: 0.8142 - val_loss: 1.0522 - val_accuracy: 0.2553 - val_recall_5: 0.9891\n",
      "4170/4170 [==============================] - 57s 14ms/step - loss: 0.4205 - accuracy: 0.8044 - recall_5: 0.8161 - val_loss: 0.9059 - val_accuracy: 0.2551 - val_recall_5: 0.9901\n",
      "4170/4170 [==============================] - 57s 14ms/step - loss: 0.4194 - accuracy: 0.8047 - recall_5: 0.8165 - val_loss: 1.0091 - val_accuracy: 0.2552 - val_recall_5: 0.9917\n",
      "4170/4170 [==============================] - 58s 14ms/step - loss: 0.4156 - accuracy: 0.8071 - recall_5: 0.8203 - val_loss: 0.7616 - val_accuracy: 0.2582 - val_recall_5: 0.9212\n",
      "4170/4170 [==============================] - 58s 14ms/step - loss: 0.4118 - accuracy: 0.8087 - recall_5: 0.8236 - val_loss: 0.6571 - val_accuracy: 0.7416 - val_recall_5: 0.0042\n",
      "4170/4170 [==============================] - 58s 14ms/step - loss: 0.4100 - accuracy: 0.8100 - recall_5: 0.8224 - val_loss: 0.7126 - val_accuracy: 0.3100 - val_recall_5: 0.3854\n",
      "4170/4170 [==============================] - 58s 14ms/step - loss: 0.4067 - accuracy: 0.8117 - recall_5: 0.8261 - val_loss: 0.7342 - val_accuracy: 0.3873 - val_recall_5: 0.7422\n"
     ]
    }
   ],
   "source": [
    "\n",
    "# Combine the features (X) from the training and validation sets\n",
    "X_combined = np.concatenate((X_train, X_val), axis=0)\n",
    "\n",
    "# Combine the labels (y) from the training and validation sets\n",
    "y_combined = np.concatenate((y_train, y_val), axis=0)\n",
    "\n",
    "# Indices for each class in the combined dataset\n",
    "indices_class_0_combined = np.where(y_combined == 0)[0]\n",
    "indices_class_1_combined = np.where(y_combined == 1)[0]\n",
    "\n",
    "# Create the model outside the loop to avoid reinitializing it in each epoch\n",
    "model = create_model(n_lstm_units=125, dropout_rate=0.2)\n",
    "\n",
    "# Assuming num_epochs and batch_size are defined\n",
    "for epoch in range(10):\n",
    "    # Randomly sample indices from the majority class (class 0) to match the minority class (class 1) size\n",
    "    sampled_majority_indices = np.random.choice(indices_class_0_combined, size=len(indices_class_1_combined), replace=False)\n",
    "    \n",
    "    # Combine sampled majority indices with all minority class indices\n",
    "    combined_indices = np.concatenate([sampled_majority_indices, indices_class_1_combined])\n",
    "    \n",
    "    # Shuffle the combined indices\n",
    "    np.random.shuffle(combined_indices)\n",
    "    \n",
    "    # Use the combined indices to create the balanced training dataset for this epoch\n",
    "    X_train_epoch = X_combined[combined_indices]\n",
    "    y_train_epoch = y_combined[combined_indices]\n",
    "    \n",
    "    # Train the model on this epoch's balanced data\n",
    "    # Make sure to replace 'epochs=1' with the correct number or remove it if you're iterating externally\n",
    "    model.fit(X_train_epoch, y_train_epoch, epochs=1, batch_size=64, validation_data=(X_test, y_test), verbose=1)"
   ]
  },
  {
   "cell_type": "code",
   "execution_count": 19,
   "id": "dba4b316",
   "metadata": {},
   "outputs": [
    {
     "data": {
      "text/plain": [
       "array([1, 1, 1, ..., 0, 0, 0])"
      ]
     },
     "execution_count": 19,
     "metadata": {},
     "output_type": "execute_result"
    }
   ],
   "source": [
    "y_train"
   ]
  },
  {
   "cell_type": "code",
   "execution_count": null,
   "id": "f79bbae5",
   "metadata": {},
   "outputs": [],
   "source": []
  },
  {
   "cell_type": "code",
   "execution_count": 51,
   "id": "5071f0c0",
   "metadata": {},
   "outputs": [],
   "source": [
    "num_epochs = 20\n",
    "batch_size = 64"
   ]
  },
  {
   "cell_type": "code",
   "execution_count": 52,
   "id": "805db58c",
   "metadata": {
    "scrolled": false
   },
   "outputs": [
    {
     "name": "stdout",
     "output_type": "stream",
     "text": [
      "3141/3141 [==============================] - 46s 15ms/step - loss: 0.4048 - accuracy: 0.8126 - recall_5: 0.8272 - val_loss: 0.4091 - val_accuracy: 0.8074 - val_recall_5: 0.8250\n",
      "3141/3141 [==============================] - 47s 15ms/step - loss: 0.4012 - accuracy: 0.8150 - recall_5: 0.8308 - val_loss: 0.4111 - val_accuracy: 0.8016 - val_recall_5: 0.8346\n",
      "3141/3141 [==============================] - 46s 15ms/step - loss: 0.3988 - accuracy: 0.8163 - recall_5: 0.8337 - val_loss: 0.3975 - val_accuracy: 0.8144 - val_recall_5: 0.8120\n",
      "3141/3141 [==============================] - 46s 15ms/step - loss: 0.3971 - accuracy: 0.8168 - recall_5: 0.8362 - val_loss: 0.3968 - val_accuracy: 0.8110 - val_recall_5: 0.8111\n",
      "3141/3141 [==============================] - 46s 15ms/step - loss: 0.3924 - accuracy: 0.8196 - recall_5: 0.8401 - val_loss: 0.4126 - val_accuracy: 0.7970 - val_recall_5: 0.8320\n",
      "3141/3141 [==============================] - 46s 15ms/step - loss: 0.3880 - accuracy: 0.8219 - recall_5: 0.8430 - val_loss: 0.4104 - val_accuracy: 0.8027 - val_recall_5: 0.8191\n",
      "3141/3141 [==============================] - 46s 15ms/step - loss: 0.3847 - accuracy: 0.8240 - recall_5: 0.8459 - val_loss: 0.4053 - val_accuracy: 0.8062 - val_recall_5: 0.8072\n",
      "3141/3141 [==============================] - 46s 15ms/step - loss: 0.3808 - accuracy: 0.8259 - recall_5: 0.8488 - val_loss: 0.4137 - val_accuracy: 0.8006 - val_recall_5: 0.8226\n",
      "3141/3141 [==============================] - 46s 15ms/step - loss: 0.3765 - accuracy: 0.8282 - recall_5: 0.8519 - val_loss: 0.4141 - val_accuracy: 0.7987 - val_recall_5: 0.8279\n",
      "3141/3141 [==============================] - 46s 15ms/step - loss: 0.3705 - accuracy: 0.8313 - recall_5: 0.8574 - val_loss: 0.4177 - val_accuracy: 0.7973 - val_recall_5: 0.8214\n",
      "3141/3141 [==============================] - 45s 14ms/step - loss: 0.3677 - accuracy: 0.8327 - recall_5: 0.8599 - val_loss: 0.4159 - val_accuracy: 0.7970 - val_recall_5: 0.8234\n",
      "3141/3141 [==============================] - 46s 15ms/step - loss: 0.3636 - accuracy: 0.8348 - recall_5: 0.8635 - val_loss: 0.4063 - val_accuracy: 0.8063 - val_recall_5: 0.8001\n",
      "3141/3141 [==============================] - 46s 15ms/step - loss: 0.3604 - accuracy: 0.8365 - recall_5: 0.8655 - val_loss: 0.4262 - val_accuracy: 0.7934 - val_recall_5: 0.8260\n",
      "3141/3141 [==============================] - 45s 14ms/step - loss: 0.3553 - accuracy: 0.8401 - recall_5: 0.8696 - val_loss: 0.4252 - val_accuracy: 0.7969 - val_recall_5: 0.8143\n",
      "3141/3141 [==============================] - 46s 15ms/step - loss: 0.3517 - accuracy: 0.8418 - recall_5: 0.8722 - val_loss: 0.4140 - val_accuracy: 0.8014 - val_recall_5: 0.8007\n",
      "3141/3141 [==============================] - 45s 14ms/step - loss: 0.3485 - accuracy: 0.8429 - recall_5: 0.8746 - val_loss: 0.4189 - val_accuracy: 0.8003 - val_recall_5: 0.8031\n",
      "3141/3141 [==============================] - 47s 15ms/step - loss: 0.3451 - accuracy: 0.8449 - recall_5: 0.8757 - val_loss: 0.4202 - val_accuracy: 0.8004 - val_recall_5: 0.7985\n",
      "3141/3141 [==============================] - 46s 15ms/step - loss: 0.3394 - accuracy: 0.8478 - recall_5: 0.8801 - val_loss: 0.4346 - val_accuracy: 0.7957 - val_recall_5: 0.8134\n",
      "3141/3141 [==============================] - 46s 15ms/step - loss: 0.3351 - accuracy: 0.8508 - recall_5: 0.8834 - val_loss: 0.4382 - val_accuracy: 0.7915 - val_recall_5: 0.8144\n",
      "3141/3141 [==============================] - 46s 15ms/step - loss: 0.3320 - accuracy: 0.8515 - recall_5: 0.8844 - val_loss: 0.4335 - val_accuracy: 0.7946 - val_recall_5: 0.8074\n"
     ]
    }
   ],
   "source": [
    "for epoch in range(num_epochs):\n",
    "    # Randomly sample indices from the majority class to match the minority class size\n",
    "    sampled_majority_indices = np.random.choice(indices_class_0, size=len(indices_class_1), replace=False)\n",
    "    \n",
    "    # Combine sampled majority indices with all minority class indices\n",
    "    combined_indices = np.concatenate([sampled_majority_indices, indices_class_1])\n",
    "    \n",
    "    # Shuffle the combined indices\n",
    "    np.random.shuffle(combined_indices)\n",
    "\n",
    "    # Use the combined indices to create the training dataset for this epoch\n",
    "    X_train_epoch = X_train[combined_indices]\n",
    "    y_train_epoch = y_train[combined_indices]\n",
    "\n",
    "    # Train the model on this epoch's data\n",
    "    model.fit(X_train_epoch, y_train_epoch, epochs=1, batch_size=batch_size, validation_data=(X_val, y_val))\n"
   ]
  },
  {
   "cell_type": "markdown",
   "id": "2aa28874",
   "metadata": {},
   "source": [
    "# Evaluating the model"
   ]
  },
  {
   "cell_type": "code",
   "execution_count": 53,
   "id": "5febad62",
   "metadata": {},
   "outputs": [
    {
     "name": "stdout",
     "output_type": "stream",
     "text": [
      "4149/4149 [==============================] - 23s 5ms/step - loss: 1.0772 - accuracy: 0.2609 - recall_5: 0.7460\n",
      "Test Loss: 1.07723867893219\n",
      "Test Accuracy: 0.260855495929718\n",
      "Test Recall: 0.7459659576416016\n"
     ]
    }
   ],
   "source": [
    "test_loss, test_accuracy, test_recall = model.evaluate(X_test, y_test)\n",
    "print(f\"Test Loss: {test_loss}\")\n",
    "print(f\"Test Accuracy: {test_accuracy}\")\n",
    "print(f\"Test Recall: {test_recall}\")"
   ]
  },
  {
   "cell_type": "code",
   "execution_count": 17,
   "id": "185e622a",
   "metadata": {},
   "outputs": [
    {
     "name": "stdout",
     "output_type": "stream",
     "text": [
      "4149/4149 [==============================] - 18s 4ms/step\n"
     ]
    }
   ],
   "source": [
    "predictions = model.predict(X_test)\n",
    "predicted_classes = (predictions >= 0.5).astype(int).flatten()"
   ]
  },
  {
   "cell_type": "code",
   "execution_count": 20,
   "id": "bf3f996d",
   "metadata": {},
   "outputs": [
    {
     "name": "stdout",
     "output_type": "stream",
     "text": [
      "tf.Tensor(\n",
      "[[98708    36]\n",
      " [33992    31]], shape=(2, 2), dtype=int32)\n"
     ]
    }
   ],
   "source": [
    "from tensorflow.math import confusion_matrix\n",
    "\n",
    "conf_matrix = confusion_matrix(y_test, predicted_classes)\n",
    "print(conf_matrix)"
   ]
  },
  {
   "cell_type": "code",
   "execution_count": 21,
   "id": "2e3d949b",
   "metadata": {},
   "outputs": [
    {
     "data": {
      "text/plain": [
       "array([['True Negative', 'False Positive'],\n",
       "       ['False Negative', 'True Positive']], dtype='<U14')"
      ]
     },
     "execution_count": 21,
     "metadata": {},
     "output_type": "execute_result"
    }
   ],
   "source": [
    "np.array([['True Negative', 'False Positive'],\n",
    " ['False Negative', 'True Positive']])"
   ]
  },
  {
   "cell_type": "code",
   "execution_count": 23,
   "id": "b020eb7c",
   "metadata": {},
   "outputs": [
    {
     "data": {
      "image/png": "[encoded data removed]",
      "text/plain": [
       "<Figure size 576x432 with 1 Axes>"
      ]
     },
     "metadata": {
      "needs_background": "light"
     },
     "output_type": "display_data"
    }
   ],
   "source": [
    "# Since your confusion matrix is already a TensorFlow tensor, convert it to a numpy array for visualization.\n",
    "conf_matrix_np = np.array([[98708 , 36]\n",
    " , [ 33992,  31]])\n",
    "\n",
    "plt.figure(figsize=(8, 6))\n",
    "sns.heatmap(conf_matrix_np, annot=True, fmt=\"d\", cmap='Blues', cbar=False, \n",
    "            xticklabels=['Predicted Negative', 'Predicted Positive'],\n",
    "            yticklabels=['Actual Negative', 'Actual Positive'])\n",
    "\n",
    "\n",
    "plt.title('Confusion Matrix')\n",
    "plt.show()"
   ]
  },
  {
   "cell_type": "code",
   "execution_count": 43,
   "id": "428f0d7e",
   "metadata": {},
   "outputs": [
    {
     "name": "stdout",
     "output_type": "stream",
     "text": [
      "Accuracy: 0.713680267153547\n",
      "Precision: 0.5696513592382123\n",
      "Recall: 0.6666897114334306\n",
      "F1 Score: 0.6143623459857549\n"
     ]
    }
   ],
   "source": [
    "# Extracting the counts from the confusion matrix\n",
    "TN, FP, FN, TP = conf_matrix.numpy().ravel()\n",
    "\n",
    "# Calculating metrics\n",
    "Accuracy = (TP + TN) / (TP + TN + FP + FN)\n",
    "Precision = TP / (TP + FP)\n",
    "Recall = TP / (TP + FN)\n",
    "F1_Score = 2 * (Precision * Recall) / (Precision + Recall)\n",
    "\n",
    "print(f'Accuracy: {Accuracy}')\n",
    "print(f'Precision: {Precision}')\n",
    "print(f'Recall: {Recall}')\n",
    "print(f'F1 Score: {F1_Score}')"
   ]
  },
  {
   "cell_type": "code",
   "execution_count": 44,
   "id": "f9e9f816",
   "metadata": {},
   "outputs": [
    {
     "data": {
      "image/png": "[encoded data removed]",
      "text/plain": [
       "<Figure size 720x432 with 1 Axes>"
      ]
     },
     "metadata": {
      "needs_background": "light"
     },
     "output_type": "display_data"
    }
   ],
   "source": [
    "\n",
    "# Metrics values\n",
    "metrics_values = [Accuracy, Precision, Recall, F1_Score]\n",
    "metrics_names = ['Accuracy', 'Precision', 'Recall', 'F1 Score']\n",
    "\n",
    "# Plotting\n",
    "plt.figure(figsize=(10, 6))\n",
    "plt.bar(metrics_names, metrics_values, color=['blue', 'green', 'red', 'purple'])\n",
    "\n",
    "plt.xlabel('Metrics')\n",
    "plt.ylabel('Value')\n",
    "plt.title('Performance Metrics Comparison')\n",
    "plt.ylim(0, 1)  # Since metric values range from 0 to 1\n",
    "plt.show()"
   ]
  },
  {
   "cell_type": "markdown",
   "id": "e02236b4",
   "metadata": {},
   "source": [
    "# AUROC"
   ]
  },
  {
   "cell_type": "code",
   "execution_count": 45,
   "id": "17c7652b",
   "metadata": {},
   "outputs": [
    {
     "name": "stdout",
     "output_type": "stream",
     "text": [
      "6607/6607 [==============================] - 16s 2ms/step\n"
     ]
    }
   ],
   "source": [
    "# Assuming `model` is your trained TensorFlow model and `X_test` is your test dataset\n",
    "y_probabilities = model.predict(X_test).ravel()\n"
   ]
  },
  {
   "cell_type": "code",
   "execution_count": 46,
   "id": "c35b0b70",
   "metadata": {},
   "outputs": [
    {
     "data": {
      "text/plain": [
       "array([0.8808977 , 0.87771165, 0.87703174, ..., 0.34179017, 0.33736566,\n",
       "       0.33493122], dtype=float32)"
      ]
     },
     "execution_count": 46,
     "metadata": {},
     "output_type": "execute_result"
    }
   ],
   "source": [
    "y_probabilities"
   ]
  },
  {
   "cell_type": "code",
   "execution_count": 47,
   "id": "d98a462f",
   "metadata": {},
   "outputs": [],
   "source": [
    "from sklearn.metrics import roc_auc_score, roc_curve\n",
    "\n",
    "# Calculate AUROC\n",
    "auroc = roc_auc_score(y_test, y_probabilities)\n",
    "\n",
    "# Calculate ROC curve\n",
    "fpr, tpr, thresholds = roc_curve(y_test, y_probabilities)\n"
   ]
  },
  {
   "cell_type": "code",
   "execution_count": 48,
   "id": "7ce9f26e",
   "metadata": {
    "scrolled": false
   },
   "outputs": [
    {
     "data": {
      "image/png": "[encoded data removed]",
      "text/plain": [
       "<Figure size 720x720 with 1 Axes>"
      ]
     },
     "metadata": {
      "needs_background": "light"
     },
     "output_type": "display_data"
    }
   ],
   "source": [
    "import matplotlib.pyplot as plt\n",
    "\n",
    "plt.figure(figsize=(10, 10)) \n",
    "plt.plot(fpr, tpr, color='darkorange', lw=2, label=f'ROC curve (area = {auroc:.2f})')\n",
    "plt.plot([0, 1], [0, 1], color='navy', lw=2, linestyle='--')\n",
    "plt.xlim([0.0, 1.0])\n",
    "plt.ylim([0.0, 1.05])\n",
    "plt.xlabel('False Positive Rate')\n",
    "plt.ylabel('True Positive Rate')\n",
    "plt.title('Receiver Operating Characteristic')\n",
    "plt.legend(loc=\"lower right\")\n",
    "plt.show()"
   ]
  }
 ],
 "metadata": {
  "kernelspec": {
   "display_name": "Python 3 (clean)",
   "language": "python",
   "name": "python3_clean"
  },
  "language_info": {
   "codemirror_mode": {
    "name": "ipython",
    "version": 3
   },
   "file_extension": ".py",
   "mimetype": "text/x-python",
   "name": "python",
   "nbconvert_exporter": "python",
   "pygments_lexer": "ipython3",
   "version": "3.9.5"
  }
 },
 "nbformat": 4,
 "nbformat_minor": 5
}
