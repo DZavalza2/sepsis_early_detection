{
 "cells": [
  {
   "cell_type": "code",
   "execution_count": 1,
   "id": "a1a278ec",
   "metadata": {},
   "outputs": [],
   "source": [
    "import pandas as pd\n",
    "import numpy as np\n",
    "import seaborn as sns\n",
    "import matplotlib.pyplot as plt\n",
    "from sklearn.model_selection import GroupShuffleSplit\n",
    "from sklearn.preprocessing import StandardScaler"
   ]
  },
  {
   "cell_type": "code",
   "execution_count": 2,
   "id": "b93e21bd",
   "metadata": {},
   "outputs": [],
   "source": [
    "import warnings\n",
    "warnings.filterwarnings('ignore')"
   ]
  },
  {
   "cell_type": "code",
   "execution_count": 4,
   "id": "a6d25a2f",
   "metadata": {},
   "outputs": [
    {
     "data": {
      "text/html": [
       "<div>\n",
       "<style scoped>\n",
       "    .dataframe tbody tr th:only-of-type {\n",
       "        vertical-align: middle;\n",
       "    }\n",
       "\n",
       "    .dataframe tbody tr th {\n",
       "        vertical-align: top;\n",
       "    }\n",
       "\n",
       "    .dataframe thead th {\n",
       "        text-align: right;\n",
       "    }\n",
       "</style>\n",
       "<table border=\"1\" class=\"dataframe\">\n",
       "  <thead>\n",
       "    <tr style=\"text-align: right;\">\n",
       "      <th></th>\n",
       "      <th>subject_id</th>\n",
       "      <th>temp</th>\n",
       "      <th>WBC</th>\n",
       "      <th>HeartRate</th>\n",
       "      <th>RR</th>\n",
       "      <th>hourly_bin</th>\n",
       "      <th>sepsis</th>\n",
       "    </tr>\n",
       "  </thead>\n",
       "  <tbody>\n",
       "    <tr>\n",
       "      <th>0</th>\n",
       "      <td>2</td>\n",
       "      <td>37.0</td>\n",
       "      <td>11.3</td>\n",
       "      <td>148.0</td>\n",
       "      <td>18.9</td>\n",
       "      <td>2138-07-17 20:00:00</td>\n",
       "      <td>0</td>\n",
       "    </tr>\n",
       "    <tr>\n",
       "      <th>1</th>\n",
       "      <td>2</td>\n",
       "      <td>37.0</td>\n",
       "      <td>11.3</td>\n",
       "      <td>144.0</td>\n",
       "      <td>18.9</td>\n",
       "      <td>2138-07-17 21:00:00</td>\n",
       "      <td>0</td>\n",
       "    </tr>\n",
       "    <tr>\n",
       "      <th>2</th>\n",
       "      <td>2</td>\n",
       "      <td>37.0</td>\n",
       "      <td>11.3</td>\n",
       "      <td>140.0</td>\n",
       "      <td>18.9</td>\n",
       "      <td>2138-07-17 22:00:00</td>\n",
       "      <td>0</td>\n",
       "    </tr>\n",
       "    <tr>\n",
       "      <th>3</th>\n",
       "      <td>3</td>\n",
       "      <td>37.0</td>\n",
       "      <td>11.3</td>\n",
       "      <td>87.0</td>\n",
       "      <td>16.0</td>\n",
       "      <td>2101-10-20 18:00:00</td>\n",
       "      <td>0</td>\n",
       "    </tr>\n",
       "    <tr>\n",
       "      <th>4</th>\n",
       "      <td>3</td>\n",
       "      <td>37.0</td>\n",
       "      <td>19.1</td>\n",
       "      <td>87.0</td>\n",
       "      <td>18.9</td>\n",
       "      <td>2101-10-20 19:00:00</td>\n",
       "      <td>0</td>\n",
       "    </tr>\n",
       "  </tbody>\n",
       "</table>\n",
       "</div>"
      ],
      "text/plain": [
       "   subject_id  temp   WBC  HeartRate    RR           hourly_bin  sepsis\n",
       "0           2  37.0  11.3      148.0  18.9  2138-07-17 20:00:00       0\n",
       "1           2  37.0  11.3      144.0  18.9  2138-07-17 21:00:00       0\n",
       "2           2  37.0  11.3      140.0  18.9  2138-07-17 22:00:00       0\n",
       "3           3  37.0  11.3       87.0  16.0  2101-10-20 18:00:00       0\n",
       "4           3  37.0  19.1       87.0  18.9  2101-10-20 19:00:00       0"
      ]
     },
     "execution_count": 4,
     "metadata": {},
     "output_type": "execute_result"
    }
   ],
   "source": [
    "df = pd.read_csv('imputed_data.csv')\n",
    "df = df.drop(columns = ['Unnamed: 0'])\n",
    "df.head()"
   ]
  },
  {
   "cell_type": "code",
   "execution_count": 5,
   "id": "e05597a5",
   "metadata": {},
   "outputs": [],
   "source": [
    "sequence_length = 10\n",
    "num_hours_ahead = 5"
   ]
  },
  {
   "cell_type": "code",
   "execution_count": 6,
   "id": "1bc23f26",
   "metadata": {},
   "outputs": [],
   "source": [
    "df['hourly_bin'] = pd.to_datetime(df['hourly_bin'])"
   ]
  },
  {
   "cell_type": "markdown",
   "id": "34bb62b1",
   "metadata": {},
   "source": [
    "# Labeling the data"
   ]
  },
  {
   "cell_type": "code",
   "execution_count": 7,
   "id": "c0b94e34",
   "metadata": {},
   "outputs": [],
   "source": [
    "def create_sequences_and_labels(data, sequence_length, num_hours_ahead):\n",
    "    sequences = []\n",
    "    labels = []\n",
    "    for i in range(len(data) - sequence_length - num_hours_ahead + 1):\n",
    "        sequence = data.iloc[i:i + sequence_length]\n",
    "        sequences.append(sequence[['temp', 'WBC', 'HeartRate', 'RR']].values)\n",
    "        \n",
    "        # Find the hourly_bin at the end of the current sequence\n",
    "        end_time = pd.to_datetime(sequence.iloc[-1]['hourly_bin'])\n",
    "\n",
    "        \n",
    "        # Look ahead in time by num_hours_ahead to check for sepsis\n",
    "        future = data[(data['hourly_bin'] > end_time) & \n",
    "                      (data['hourly_bin'] <= end_time + pd.Timedelta(hours=num_hours_ahead))]\n",
    "        label = 1 if future['sepsis'].any() else 0\n",
    "        labels.append(label)\n",
    "        \n",
    "    return np.array(sequences), np.array(labels)"
   ]
  },
  {
   "cell_type": "code",
   "execution_count": 8,
   "id": "47f608b2",
   "metadata": {},
   "outputs": [
    {
     "ename": "NameError",
     "evalue": "name 'train_data' is not defined",
     "output_type": "error",
     "traceback": [
      "\u001b[0;31m---------------------------------------------------------------------------\u001b[0m",
      "\u001b[0;31mNameError\u001b[0m                                 Traceback (most recent call last)",
      "Cell \u001b[0;32mIn[8], line 4\u001b[0m\n\u001b[1;32m      2\u001b[0m gss_val \u001b[38;5;241m=\u001b[39m GroupShuffleSplit(test_size\u001b[38;5;241m=\u001b[39m\u001b[38;5;241m0.25\u001b[39m, n_splits\u001b[38;5;241m=\u001b[39m\u001b[38;5;241m1\u001b[39m, random_state\u001b[38;5;241m=\u001b[39m\u001b[38;5;241m42\u001b[39m)  \n\u001b[1;32m      3\u001b[0m \u001b[38;5;66;03m# Create validation set from training data\u001b[39;00m\n\u001b[0;32m----> 4\u001b[0m train_inds, val_inds \u001b[38;5;241m=\u001b[39m \u001b[38;5;28mnext\u001b[39m(gss_val\u001b[38;5;241m.\u001b[39msplit(train_data, groups\u001b[38;5;241m=\u001b[39mtrain_data[\u001b[38;5;124m'\u001b[39m\u001b[38;5;124msubject_id\u001b[39m\u001b[38;5;124m'\u001b[39m]))\n\u001b[1;32m      6\u001b[0m new_train_data \u001b[38;5;241m=\u001b[39m train_data\u001b[38;5;241m.\u001b[39miloc[train_inds]\n\u001b[1;32m      7\u001b[0m val_data \u001b[38;5;241m=\u001b[39m train_data\u001b[38;5;241m.\u001b[39miloc[val_inds]\n",
      "\u001b[0;31mNameError\u001b[0m: name 'train_data' is not defined"
     ]
    }
   ],
   "source": [
    "# Assuming the initial split into train_data and test_data is done\n",
    "gss_val = GroupShuffleSplit(test_size=0.25, n_splits=1, random_state=42)  \n",
    "# Create validation set from training data\n",
    "train_inds, val_inds = next(gss_val.split(train_data, groups=train_data['subject_id']))\n",
    "\n",
    "new_train_data = train_data.iloc[train_inds]\n",
    "val_data = train_data.iloc[val_inds]\n",
    "\n",
    "# Initialize the scaler\n",
    "scaler = StandardScaler()\n",
    "\n",
    "# Scale features for the entire dataset before splitting into sequences\n",
    "# This assumes the features are similar across all sets and can be scaled in one go\n",
    "# Note: This is a simplification and may not always be the best approach. Consider scaling within each subject loop if data distributions vary significantly by subject.\n",
    "all_data = pd.concat([new_train_data, val_data, test_data])\n",
    "all_features_scaled = scaler.fit_transform(all_data[['temp', 'WBC', 'HeartRate', 'RR']])\n",
    "all_data.loc[:, ['temp', 'WBC', 'HeartRate', 'RR']] = all_features_scaled\n",
    "\n",
    "# Split the scaled data back\n",
    "new_train_data = all_data.iloc[:len(new_train_data)]\n",
    "val_data = all_data.iloc[len(new_train_data):len(new_train_data) + len(val_data)]\n",
    "test_data = all_data.iloc[-len(test_data):]\n",
    "\n",
    "# Initialize lists to hold sequences and labels\n",
    "X_train, y_train = [], []\n",
    "X_val, y_val = [], []\n",
    "X_test, y_test = [], []\n",
    "\n",
    "# Create sequences and labels for the new training data\n",
    "for subject_id in new_train_data['subject_id'].unique():\n",
    "    subject_data = new_train_data[new_train_data['subject_id'] == subject_id]\n",
    "    subject_sequences, subject_labels = create_sequences_and_labels(subject_data, sequence_length, num_hours_ahead)\n",
    "    X_train.extend(subject_sequences)\n",
    "    y_train.extend(subject_labels)\n",
    "\n",
    "# Create sequences and labels for validation data\n",
    "for subject_id in val_data['subject_id'].unique():\n",
    "    subject_data = val_data[val_data['subject_id'] == subject_id]\n",
    "    subject_sequences, subject_labels = create_sequences_and_labels(subject_data, sequence_length, num_hours_ahead)\n",
    "    X_val.extend(subject_sequences)\n",
    "    y_val.extend(subject_labels)\n",
    "\n",
    "# Create sequences and labels for test data\n",
    "for subject_id in test_data['subject_id'].unique():\n",
    "    subject_data = test_data[test_data['subject_id'] == subject_id]\n",
    "    subject_sequences, subject_labels = create_sequences_and_labels(subject_data, sequence_length, num_hours_ahead)\n",
    "    X_test.extend(subject_sequences)\n",
    "    y_test.extend(subject_labels)\n",
    "\n",
    "# Convert lists to numpy arrays\n",
    "X_train = np.array(X_train)\n",
    "y_train = np.array(y_train)\n",
    "X_val = np.array(X_val)\n",
    "y_val = np.array(y_val)\n",
    "X_test = np.array(X_test)\n",
    "y_test = np.array(y_test)"
   ]
  },
  {
   "cell_type": "code",
   "execution_count": 25,
   "id": "d223cb65",
   "metadata": {},
   "outputs": [],
   "source": [
    "# Save the numpy arrays as .npz files\n",
    "np.save('data/X_train.npy', X_train)\n",
    "np.save('data/y_train.npy', y_train)\n",
    "np.save('data/X_val.npy', X_val)\n",
    "np.save('data/y_val.npy', y_val)\n",
    "np.save('data/X_test.npy', X_test)\n",
    "np.save('data/y_test.npy', y_test)"
   ]
  },
  {
   "cell_type": "code",
   "execution_count": null,
   "id": "f887e6f7-5e85-4553-8cb6-117f8c9aafd9",
   "metadata": {},
   "outputs": [],
   "source": []
  }
 ],
 "metadata": {
  "kernelspec": {
   "display_name": "Python 3 (ipykernel)",
   "language": "python",
   "name": "python3"
  },
  "language_info": {
   "codemirror_mode": {
    "name": "ipython",
    "version": 3
   },
   "file_extension": ".py",
   "mimetype": "text/x-python",
   "name": "python",
   "nbconvert_exporter": "python",
   "pygments_lexer": "ipython3",
   "version": "3.11.0"
  }
 },
 "nbformat": 4,
 "nbformat_minor": 5
}
