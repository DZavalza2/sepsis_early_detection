{
 "cells": [
  {
   "cell_type": "code",
   "execution_count": 2,
   "id": "a1a278ec",
   "metadata": {},
   "outputs": [],
   "source": [
    "import pandas as pd\n",
    "import numpy as np\n",
    "import seaborn as sns\n",
    "import matplotlib.pyplot as plt\n",
    "from sklearn.model_selection import GroupShuffleSplit\n",
    "from sklearn.preprocessing import StandardScaler"
   ]
  },
  {
   "cell_type": "code",
   "execution_count": 2,
   "id": "b93e21bd",
   "metadata": {},
   "outputs": [],
   "source": [
    "import warnings\n",
    "warnings.filterwarnings('ignore')"
   ]
  },
  {
   "cell_type": "code",
   "execution_count": 3,
   "id": "a6d25a2f",
   "metadata": {},
   "outputs": [
    {
     "data": {
      "text/html": [
       "<div>\n",
       "<style scoped>\n",
       "    .dataframe tbody tr th:only-of-type {\n",
       "        vertical-align: middle;\n",
       "    }\n",
       "\n",
       "    .dataframe tbody tr th {\n",
       "        vertical-align: top;\n",
       "    }\n",
       "\n",
       "    .dataframe thead th {\n",
       "        text-align: right;\n",
       "    }\n",
       "</style>\n",
       "<table border=\"1\" class=\"dataframe\">\n",
       "  <thead>\n",
       "    <tr style=\"text-align: right;\">\n",
       "      <th></th>\n",
       "      <th>subject_id</th>\n",
       "      <th>temp</th>\n",
       "      <th>WBC</th>\n",
       "      <th>HeartRate</th>\n",
       "      <th>RR</th>\n",
       "      <th>hourly_bin</th>\n",
       "      <th>sepsis</th>\n",
       "    </tr>\n",
       "  </thead>\n",
       "  <tbody>\n",
       "    <tr>\n",
       "      <th>0</th>\n",
       "      <td>2</td>\n",
       "      <td>37.0</td>\n",
       "      <td>11.3</td>\n",
       "      <td>148.0</td>\n",
       "      <td>18.9</td>\n",
       "      <td>2138-07-17 20:00:00</td>\n",
       "      <td>0</td>\n",
       "    </tr>\n",
       "    <tr>\n",
       "      <th>1</th>\n",
       "      <td>2</td>\n",
       "      <td>37.0</td>\n",
       "      <td>11.3</td>\n",
       "      <td>144.0</td>\n",
       "      <td>18.9</td>\n",
       "      <td>2138-07-17 21:00:00</td>\n",
       "      <td>0</td>\n",
       "    </tr>\n",
       "    <tr>\n",
       "      <th>2</th>\n",
       "      <td>2</td>\n",
       "      <td>37.0</td>\n",
       "      <td>11.3</td>\n",
       "      <td>140.0</td>\n",
       "      <td>18.9</td>\n",
       "      <td>2138-07-17 22:00:00</td>\n",
       "      <td>0</td>\n",
       "    </tr>\n",
       "    <tr>\n",
       "      <th>3</th>\n",
       "      <td>3</td>\n",
       "      <td>37.0</td>\n",
       "      <td>11.3</td>\n",
       "      <td>87.0</td>\n",
       "      <td>16.0</td>\n",
       "      <td>2101-10-20 18:00:00</td>\n",
       "      <td>0</td>\n",
       "    </tr>\n",
       "    <tr>\n",
       "      <th>4</th>\n",
       "      <td>3</td>\n",
       "      <td>37.0</td>\n",
       "      <td>19.1</td>\n",
       "      <td>87.0</td>\n",
       "      <td>18.9</td>\n",
       "      <td>2101-10-20 19:00:00</td>\n",
       "      <td>0</td>\n",
       "    </tr>\n",
       "  </tbody>\n",
       "</table>\n",
       "</div>"
      ],
      "text/plain": [
       "   subject_id  temp   WBC  HeartRate    RR           hourly_bin  sepsis\n",
       "0           2  37.0  11.3      148.0  18.9  2138-07-17 20:00:00       0\n",
       "1           2  37.0  11.3      144.0  18.9  2138-07-17 21:00:00       0\n",
       "2           2  37.0  11.3      140.0  18.9  2138-07-17 22:00:00       0\n",
       "3           3  37.0  11.3       87.0  16.0  2101-10-20 18:00:00       0\n",
       "4           3  37.0  19.1       87.0  18.9  2101-10-20 19:00:00       0"
      ]
     },
     "execution_count": 3,
     "metadata": {},
     "output_type": "execute_result"
    }
   ],
   "source": [
    "df = pd.read_csv('imputed_test_data.csv')\n",
    "df = df.drop(columns = ['Unnamed: 0'])\n",
    "df.head()"
   ]
  },
  {
   "cell_type": "code",
   "execution_count": 4,
   "id": "e05597a5",
   "metadata": {},
   "outputs": [],
   "source": [
    "sequence_length = 10\n",
    "num_hours_ahead = 5"
   ]
  },
  {
   "cell_type": "code",
   "execution_count": 5,
   "id": "1bc23f26",
   "metadata": {},
   "outputs": [],
   "source": [
    "df['hourly_bin'] = pd.to_datetime(df['hourly_bin'])"
   ]
  },
  {
   "cell_type": "markdown",
   "id": "34bb62b1",
   "metadata": {},
   "source": [
    "# Labeling the data"
   ]
  },
  {
   "cell_type": "code",
   "execution_count": 6,
   "id": "c0b94e34",
   "metadata": {},
   "outputs": [],
   "source": [
    "def create_sequences_and_labels(data, sequence_length, num_hours_ahead):\n",
    "    sequences = []\n",
    "    labels = []\n",
    "    for i in range(len(data) - sequence_length - num_hours_ahead + 1):\n",
    "        sequence = data.iloc[i:i + sequence_length]\n",
    "        sequences.append(sequence[['temp', 'WBC', 'HeartRate', 'RR']].values)\n",
    "        \n",
    "        # Find the hourly_bin at the end of the current sequence\n",
    "        end_time = pd.to_datetime(sequence.iloc[-1]['hourly_bin'])\n",
    "\n",
    "        \n",
    "        # Look ahead in time by num_hours_ahead to check for sepsis\n",
    "        future = data[(data['hourly_bin'] > end_time) & \n",
    "                      (data['hourly_bin'] <= end_time + pd.Timedelta(hours=num_hours_ahead))]\n",
    "        label = 1 if future['sepsis'].any() else 0\n",
    "        labels.append(label)\n",
    "        \n",
    "    return np.array(sequences), np.array(labels)"
   ]
  },
  {
   "cell_type": "code",
   "execution_count": 7,
   "id": "47f608b2",
   "metadata": {},
   "outputs": [],
   "source": [
    "gss = GroupShuffleSplit(test_size=0.2, n_splits=1, random_state=42)\n",
    "train_inds, test_inds = next(gss.split(df, groups=df['subject_id']))\n",
    "\n",
    "train_data = df.iloc[train_inds]\n",
    "test_data = df.iloc[test_inds]\n",
    "\n",
    "# Further split the training data into training and validation sets\n",
    "gss_val = GroupShuffleSplit(test_size=0.25, n_splits=1, random_state=42)  \n",
    "# Create validation set from training data\n",
    "train_inds, val_inds = next(gss_val.split(train_data, groups=train_data['subject_id']))\n",
    "\n",
    "new_train_data = train_data.iloc[train_inds]\n",
    "val_data = train_data.iloc[val_inds]\n",
    "\n",
    "# Initialize the scalerx\n",
    "scaler = StandardScaler()\n",
    "\n",
    "# Scale features for the new training data\n",
    "new_train_features = scaler.fit_transform(new_train_data[['temp', 'WBC', 'HeartRate', 'RR']])\n",
    "new_train_data.loc[:, ['temp', 'WBC', 'HeartRate', 'RR']] = new_train_features\n",
    "\n",
    "# Scale features for the validation data\n",
    "val_features = scaler.transform(val_data[['temp', 'WBC', 'HeartRate', 'RR']])\n",
    "val_data.loc[:, ['temp', 'WBC', 'HeartRate', 'RR']] = val_features\n",
    "\n",
    "# Scale features for the test data\n",
    "test_features = scaler.transform(test_data[['temp', 'WBC', 'HeartRate', 'RR']])\n",
    "test_data.loc[:, ['temp', 'WBC', 'HeartRate', 'RR']] = test_features\n",
    "\n",
    "# Create sequences and labels for the new training, validation, and test data\n",
    "X_train, y_train = create_sequences_and_labels(new_train_data, sequence_length, num_hours_ahead)\n",
    "X_val, y_val = create_sequences_and_labels(val_data, sequence_length, num_hours_ahead)\n",
    "X_test, y_test = create_sequences_and_labels(test_data, sequence_length, num_hours_ahead)\n"
   ]
  },
  {
   "cell_type": "code",
   "execution_count": 9,
   "id": "d223cb65",
   "metadata": {},
   "outputs": [],
   "source": [
    "# Save the numpy arrays as .npz files\n",
    "np.save('data/X_train.npy', X_train)\n",
    "np.save('data/y_train.npy', y_train)\n",
    "np.save('data/X_val.npy', X_val)\n",
    "np.save('data/y_val.npy', y_val)\n",
    "np.save('data/X_test.npy', X_test)\n",
    "np.save('data/y_test.npy', y_test)"
   ]
  },
  {
   "cell_type": "code",
   "execution_count": 5,
   "id": "1119668f",
   "metadata": {},
   "outputs": [
    {
     "data": {
      "text/plain": [
       "array([[-1.57351207e-02, -1.38392248e-01,  2.66007475e+00,\n",
       "        -7.39002713e-03],\n",
       "       [-1.57351207e-02, -1.38392248e-01,  2.47241062e+00,\n",
       "        -7.39002713e-03],\n",
       "       [-1.57351207e-02, -1.38392248e-01,  2.28474648e+00,\n",
       "        -7.39002713e-03],\n",
       "       [-1.57351207e-02, -1.38392248e-01, -2.01803365e-01,\n",
       "        -2.15226096e-01],\n",
       "       [-1.57351207e-02,  9.15511400e-01, -2.01803365e-01,\n",
       "        -7.39002713e-03],\n",
       "       [-1.57351207e-02,  9.15511400e-01,  3.59839545e+00,\n",
       "        -1.00356981e+00],\n",
       "       [-1.57351207e-02,  9.15511400e-01,  2.05016630e+00,\n",
       "        -2.86893706e-01],\n",
       "       [-1.57351207e-02,  9.15511400e-01,  1.72175406e+00,\n",
       "         1.43111954e-01],\n",
       "       [-1.57351207e-02,  9.15511400e-01, -2.01803365e-01,\n",
       "        -2.15226096e-01],\n",
       "       [-1.57351207e-02,  9.15511400e-01, -2.01803365e-01,\n",
       "        -2.23266133e-04]])"
      ]
     },
     "execution_count": 5,
     "metadata": {},
     "output_type": "execute_result"
    }
   ],
   "source": [
    "X_train[0]"
   ]
  },
  {
   "cell_type": "code",
   "execution_count": 6,
   "id": "864b8dde-89f3-43be-b723-4cf8372edfb3",
   "metadata": {},
   "outputs": [
    {
     "data": {
      "text/plain": [
       "1"
      ]
     },
     "execution_count": 6,
     "metadata": {},
     "output_type": "execute_result"
    }
   ],
   "source": [
    "y_train[0]"
   ]
  }
 ],
 "metadata": {
  "kernelspec": {
   "display_name": "Python 3 (ipykernel)",
   "language": "python",
   "name": "python3"
  },
  "language_info": {
   "codemirror_mode": {
    "name": "ipython",
    "version": 3
   },
   "file_extension": ".py",
   "mimetype": "text/x-python",
   "name": "python",
   "nbconvert_exporter": "python",
   "pygments_lexer": "ipython3",
   "version": "3.11.0"
  }
 },
 "nbformat": 4,
 "nbformat_minor": 5
}
